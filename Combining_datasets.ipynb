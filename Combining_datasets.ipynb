{
  "nbformat": 4,
  "nbformat_minor": 0,
  "metadata": {
    "colab": {
      "name": "Combining datasets",
      "provenance": [],
      "collapsed_sections": []
    },
    "kernelspec": {
      "name": "python3",
      "display_name": "Python 3"
    },
    "language_info": {
      "name": "python"
    }
  },
  "cells": [
    {
      "cell_type": "markdown",
      "metadata": {
        "id": "KgWQKNJGbBk_"
      },
      "source": [
        "#IT Girls - Health Status Prediction\n",
        "\n",
        "We collected datasets related to heart disease, one for each team member. Three of these datasets came from Kaggle - an online resource for datasets. The fourth was from the National Health Interview Survey."
      ]
    },
    {
      "cell_type": "markdown",
      "metadata": {
        "id": "EVbV7GEwBMAR"
      },
      "source": [
        "# Uploading the datasets into collab"
      ]
    },
    {
      "cell_type": "markdown",
      "metadata": {
        "id": "AVPDSlxDUGVB"
      },
      "source": [
        "## Columns key\n",
        "\n",
        "This is a columns key that describes all columns in our dataset, what they mean, and if applicable how they were measured."
      ]
    },
    {
      "cell_type": "markdown",
      "metadata": {
        "id": "r3xj_RunUSpD"
      },
      "source": [
        "WILL PUT COLUMN KEY HERE"
      ]
    },
    {
      "cell_type": "markdown",
      "metadata": {
        "id": "fmltHAUDIA8q"
      },
      "source": [
        "## Ruth"
      ]
    },
    {
      "cell_type": "markdown",
      "metadata": {
        "id": "_tJlNFBiE2YU"
      },
      "source": [
        "This is uploading Ruth's cleaned dataset into the notebook"
      ]
    },
    {
      "cell_type": "code",
      "metadata": {
        "colab": {
          "base_uri": "https://localhost:8080/",
          "height": 204
        },
        "id": "uk5hHVB-A_1z",
        "outputId": "489b341b-581f-4c5d-ab90-c2a10b29a6dc"
      },
      "source": [
        "import pandas as pd\n",
        "urlR = 'https://raw.githubusercontent.com/GGC-DSA/health-status-prediction/main/CLEANED%20Datasets/Cleaned%20heart.csv'\n",
        "dfR = pd.read_csv(urlR)\n",
        "dfR.head(5)"
      ],
      "execution_count": null,
      "outputs": [
        {
          "output_type": "execute_result",
          "data": {
            "text/html": [
              "<div>\n",
              "<style scoped>\n",
              "    .dataframe tbody tr th:only-of-type {\n",
              "        vertical-align: middle;\n",
              "    }\n",
              "\n",
              "    .dataframe tbody tr th {\n",
              "        vertical-align: top;\n",
              "    }\n",
              "\n",
              "    .dataframe thead th {\n",
              "        text-align: right;\n",
              "    }\n",
              "</style>\n",
              "<table border=\"1\" class=\"dataframe\">\n",
              "  <thead>\n",
              "    <tr style=\"text-align: right;\">\n",
              "      <th></th>\n",
              "      <th>age</th>\n",
              "      <th>sex</th>\n",
              "      <th>blood pressure</th>\n",
              "      <th>cholesterol</th>\n",
              "      <th>diagnosis</th>\n",
              "    </tr>\n",
              "  </thead>\n",
              "  <tbody>\n",
              "    <tr>\n",
              "      <th>0</th>\n",
              "      <td>63</td>\n",
              "      <td>1</td>\n",
              "      <td>145</td>\n",
              "      <td>233</td>\n",
              "      <td>1</td>\n",
              "    </tr>\n",
              "    <tr>\n",
              "      <th>1</th>\n",
              "      <td>37</td>\n",
              "      <td>1</td>\n",
              "      <td>130</td>\n",
              "      <td>250</td>\n",
              "      <td>1</td>\n",
              "    </tr>\n",
              "    <tr>\n",
              "      <th>2</th>\n",
              "      <td>41</td>\n",
              "      <td>0</td>\n",
              "      <td>130</td>\n",
              "      <td>204</td>\n",
              "      <td>1</td>\n",
              "    </tr>\n",
              "    <tr>\n",
              "      <th>3</th>\n",
              "      <td>56</td>\n",
              "      <td>1</td>\n",
              "      <td>120</td>\n",
              "      <td>236</td>\n",
              "      <td>1</td>\n",
              "    </tr>\n",
              "    <tr>\n",
              "      <th>4</th>\n",
              "      <td>57</td>\n",
              "      <td>0</td>\n",
              "      <td>120</td>\n",
              "      <td>354</td>\n",
              "      <td>1</td>\n",
              "    </tr>\n",
              "  </tbody>\n",
              "</table>\n",
              "</div>"
            ],
            "text/plain": [
              "   age  sex  blood pressure  cholesterol  diagnosis\n",
              "0   63    1             145          233          1\n",
              "1   37    1             130          250          1\n",
              "2   41    0             130          204          1\n",
              "3   56    1             120          236          1\n",
              "4   57    0             120          354          1"
            ]
          },
          "metadata": {
            "tags": []
          },
          "execution_count": 2
        }
      ]
    },
    {
      "cell_type": "markdown",
      "metadata": {
        "id": "KTscNn69R0tp"
      },
      "source": [
        "This is cleaning up a little bit of Ruth's dataset to better match the other datsets. This will help when the data is merged."
      ]
    },
    {
      "cell_type": "code",
      "metadata": {
        "colab": {
          "base_uri": "https://localhost:8080/",
          "height": 204
        },
        "id": "fMk7clrySMC8",
        "outputId": "da68def7-74a4-4cf6-bae6-4d3723ee040c"
      },
      "source": [
        "# both column name changes were made to make sure there is a clear difference\n",
        "# between them and other similar column names in the combined dataset\n",
        "dfR = dfR.rename(columns = {'cholesterol' : 'serum cholesterol',\n",
        "                  'blood pressure' : 'rbp'})\n",
        "dfR.head(5)"
      ],
      "execution_count": null,
      "outputs": [
        {
          "output_type": "execute_result",
          "data": {
            "text/html": [
              "<div>\n",
              "<style scoped>\n",
              "    .dataframe tbody tr th:only-of-type {\n",
              "        vertical-align: middle;\n",
              "    }\n",
              "\n",
              "    .dataframe tbody tr th {\n",
              "        vertical-align: top;\n",
              "    }\n",
              "\n",
              "    .dataframe thead th {\n",
              "        text-align: right;\n",
              "    }\n",
              "</style>\n",
              "<table border=\"1\" class=\"dataframe\">\n",
              "  <thead>\n",
              "    <tr style=\"text-align: right;\">\n",
              "      <th></th>\n",
              "      <th>age</th>\n",
              "      <th>sex</th>\n",
              "      <th>rbp</th>\n",
              "      <th>serum cholesterol</th>\n",
              "      <th>diagnosis</th>\n",
              "    </tr>\n",
              "  </thead>\n",
              "  <tbody>\n",
              "    <tr>\n",
              "      <th>0</th>\n",
              "      <td>63</td>\n",
              "      <td>1</td>\n",
              "      <td>145</td>\n",
              "      <td>233</td>\n",
              "      <td>1</td>\n",
              "    </tr>\n",
              "    <tr>\n",
              "      <th>1</th>\n",
              "      <td>37</td>\n",
              "      <td>1</td>\n",
              "      <td>130</td>\n",
              "      <td>250</td>\n",
              "      <td>1</td>\n",
              "    </tr>\n",
              "    <tr>\n",
              "      <th>2</th>\n",
              "      <td>41</td>\n",
              "      <td>0</td>\n",
              "      <td>130</td>\n",
              "      <td>204</td>\n",
              "      <td>1</td>\n",
              "    </tr>\n",
              "    <tr>\n",
              "      <th>3</th>\n",
              "      <td>56</td>\n",
              "      <td>1</td>\n",
              "      <td>120</td>\n",
              "      <td>236</td>\n",
              "      <td>1</td>\n",
              "    </tr>\n",
              "    <tr>\n",
              "      <th>4</th>\n",
              "      <td>57</td>\n",
              "      <td>0</td>\n",
              "      <td>120</td>\n",
              "      <td>354</td>\n",
              "      <td>1</td>\n",
              "    </tr>\n",
              "  </tbody>\n",
              "</table>\n",
              "</div>"
            ],
            "text/plain": [
              "   age  sex  rbp  serum cholesterol  diagnosis\n",
              "0   63    1  145                233          1\n",
              "1   37    1  130                250          1\n",
              "2   41    0  130                204          1\n",
              "3   56    1  120                236          1\n",
              "4   57    0  120                354          1"
            ]
          },
          "metadata": {
            "tags": []
          },
          "execution_count": 3
        }
      ]
    },
    {
      "cell_type": "markdown",
      "metadata": {
        "id": "2aaedtlCIDqp"
      },
      "source": [
        "## Sarah"
      ]
    },
    {
      "cell_type": "markdown",
      "metadata": {
        "id": "xGobjRHIE9pl"
      },
      "source": [
        "This is uploading Sarah's cleaned dataset into the notebook"
      ]
    },
    {
      "cell_type": "code",
      "metadata": {
        "colab": {
          "base_uri": "https://localhost:8080/",
          "height": 204
        },
        "id": "0ICCxI4WEXLZ",
        "outputId": "2410638c-52e1-4df6-aaf1-e0b427e3e1a6"
      },
      "source": [
        "# change chd to \"diagnosis\" upon sarah's approval?\n",
        "\n",
        "urlS = 'https://raw.githubusercontent.com/GGC-DSA/health-status-prediction/main/CLEANED%20Datasets/heart_disease_no_index.csv'\n",
        "dfS = pd.read_csv(urlS)\n",
        "dfS.head(5)"
      ],
      "execution_count": null,
      "outputs": [
        {
          "output_type": "execute_result",
          "data": {
            "text/html": [
              "<div>\n",
              "<style scoped>\n",
              "    .dataframe tbody tr th:only-of-type {\n",
              "        vertical-align: middle;\n",
              "    }\n",
              "\n",
              "    .dataframe tbody tr th {\n",
              "        vertical-align: top;\n",
              "    }\n",
              "\n",
              "    .dataframe thead th {\n",
              "        text-align: right;\n",
              "    }\n",
              "</style>\n",
              "<table border=\"1\" class=\"dataframe\">\n",
              "  <thead>\n",
              "    <tr style=\"text-align: right;\">\n",
              "      <th></th>\n",
              "      <th>sbp</th>\n",
              "      <th>tobacco</th>\n",
              "      <th>ldl</th>\n",
              "      <th>adiposity</th>\n",
              "      <th>famhist</th>\n",
              "      <th>typea</th>\n",
              "      <th>obesity</th>\n",
              "      <th>alcohol</th>\n",
              "      <th>age</th>\n",
              "      <th>chd</th>\n",
              "    </tr>\n",
              "  </thead>\n",
              "  <tbody>\n",
              "    <tr>\n",
              "      <th>0</th>\n",
              "      <td>160</td>\n",
              "      <td>12.00</td>\n",
              "      <td>5.73</td>\n",
              "      <td>23.11</td>\n",
              "      <td>Present</td>\n",
              "      <td>49</td>\n",
              "      <td>25.30</td>\n",
              "      <td>97.20</td>\n",
              "      <td>52</td>\n",
              "      <td>1</td>\n",
              "    </tr>\n",
              "    <tr>\n",
              "      <th>1</th>\n",
              "      <td>144</td>\n",
              "      <td>0.01</td>\n",
              "      <td>4.41</td>\n",
              "      <td>28.61</td>\n",
              "      <td>Absent</td>\n",
              "      <td>55</td>\n",
              "      <td>28.87</td>\n",
              "      <td>2.06</td>\n",
              "      <td>63</td>\n",
              "      <td>1</td>\n",
              "    </tr>\n",
              "    <tr>\n",
              "      <th>2</th>\n",
              "      <td>118</td>\n",
              "      <td>0.08</td>\n",
              "      <td>3.48</td>\n",
              "      <td>32.28</td>\n",
              "      <td>Present</td>\n",
              "      <td>52</td>\n",
              "      <td>29.14</td>\n",
              "      <td>3.81</td>\n",
              "      <td>46</td>\n",
              "      <td>0</td>\n",
              "    </tr>\n",
              "    <tr>\n",
              "      <th>3</th>\n",
              "      <td>170</td>\n",
              "      <td>7.50</td>\n",
              "      <td>6.41</td>\n",
              "      <td>38.03</td>\n",
              "      <td>Present</td>\n",
              "      <td>51</td>\n",
              "      <td>31.99</td>\n",
              "      <td>24.26</td>\n",
              "      <td>58</td>\n",
              "      <td>1</td>\n",
              "    </tr>\n",
              "    <tr>\n",
              "      <th>4</th>\n",
              "      <td>134</td>\n",
              "      <td>13.60</td>\n",
              "      <td>3.50</td>\n",
              "      <td>27.78</td>\n",
              "      <td>Present</td>\n",
              "      <td>60</td>\n",
              "      <td>25.99</td>\n",
              "      <td>57.34</td>\n",
              "      <td>49</td>\n",
              "      <td>1</td>\n",
              "    </tr>\n",
              "  </tbody>\n",
              "</table>\n",
              "</div>"
            ],
            "text/plain": [
              "   sbp  tobacco   ldl  adiposity  famhist  typea  obesity  alcohol  age  chd\n",
              "0  160    12.00  5.73      23.11  Present     49    25.30    97.20   52    1\n",
              "1  144     0.01  4.41      28.61   Absent     55    28.87     2.06   63    1\n",
              "2  118     0.08  3.48      32.28  Present     52    29.14     3.81   46    0\n",
              "3  170     7.50  6.41      38.03  Present     51    31.99    24.26   58    1\n",
              "4  134    13.60  3.50      27.78  Present     60    25.99    57.34   49    1"
            ]
          },
          "metadata": {
            "tags": []
          },
          "execution_count": 4
        }
      ]
    },
    {
      "cell_type": "markdown",
      "metadata": {
        "id": "X_lEiyhYUb88"
      },
      "source": [
        "This is cleaning up a little bit of Sarah's dataset to better match the other datsets. This will help when the data is merged."
      ]
    },
    {
      "cell_type": "code",
      "metadata": {
        "colab": {
          "base_uri": "https://localhost:8080/",
          "height": 204
        },
        "id": "802qMKrzdte7",
        "outputId": "1801af0c-fe19-4c1e-ca48-279152fb9f06"
      },
      "source": [
        "# This column name was changed to match the name of a column from another\n",
        "# dataset with the same purpose\n",
        "dfS = dfS.rename(columns = {'chd' : 'diagnosis'})\n",
        "dfS.head(5)"
      ],
      "execution_count": null,
      "outputs": [
        {
          "output_type": "execute_result",
          "data": {
            "text/html": [
              "<div>\n",
              "<style scoped>\n",
              "    .dataframe tbody tr th:only-of-type {\n",
              "        vertical-align: middle;\n",
              "    }\n",
              "\n",
              "    .dataframe tbody tr th {\n",
              "        vertical-align: top;\n",
              "    }\n",
              "\n",
              "    .dataframe thead th {\n",
              "        text-align: right;\n",
              "    }\n",
              "</style>\n",
              "<table border=\"1\" class=\"dataframe\">\n",
              "  <thead>\n",
              "    <tr style=\"text-align: right;\">\n",
              "      <th></th>\n",
              "      <th>sbp</th>\n",
              "      <th>tobacco</th>\n",
              "      <th>ldl</th>\n",
              "      <th>adiposity</th>\n",
              "      <th>famhist</th>\n",
              "      <th>typea</th>\n",
              "      <th>obesity</th>\n",
              "      <th>alcohol</th>\n",
              "      <th>age</th>\n",
              "      <th>diagnosis</th>\n",
              "    </tr>\n",
              "  </thead>\n",
              "  <tbody>\n",
              "    <tr>\n",
              "      <th>0</th>\n",
              "      <td>160</td>\n",
              "      <td>12.00</td>\n",
              "      <td>5.73</td>\n",
              "      <td>23.11</td>\n",
              "      <td>Present</td>\n",
              "      <td>49</td>\n",
              "      <td>25.30</td>\n",
              "      <td>97.20</td>\n",
              "      <td>52</td>\n",
              "      <td>1</td>\n",
              "    </tr>\n",
              "    <tr>\n",
              "      <th>1</th>\n",
              "      <td>144</td>\n",
              "      <td>0.01</td>\n",
              "      <td>4.41</td>\n",
              "      <td>28.61</td>\n",
              "      <td>Absent</td>\n",
              "      <td>55</td>\n",
              "      <td>28.87</td>\n",
              "      <td>2.06</td>\n",
              "      <td>63</td>\n",
              "      <td>1</td>\n",
              "    </tr>\n",
              "    <tr>\n",
              "      <th>2</th>\n",
              "      <td>118</td>\n",
              "      <td>0.08</td>\n",
              "      <td>3.48</td>\n",
              "      <td>32.28</td>\n",
              "      <td>Present</td>\n",
              "      <td>52</td>\n",
              "      <td>29.14</td>\n",
              "      <td>3.81</td>\n",
              "      <td>46</td>\n",
              "      <td>0</td>\n",
              "    </tr>\n",
              "    <tr>\n",
              "      <th>3</th>\n",
              "      <td>170</td>\n",
              "      <td>7.50</td>\n",
              "      <td>6.41</td>\n",
              "      <td>38.03</td>\n",
              "      <td>Present</td>\n",
              "      <td>51</td>\n",
              "      <td>31.99</td>\n",
              "      <td>24.26</td>\n",
              "      <td>58</td>\n",
              "      <td>1</td>\n",
              "    </tr>\n",
              "    <tr>\n",
              "      <th>4</th>\n",
              "      <td>134</td>\n",
              "      <td>13.60</td>\n",
              "      <td>3.50</td>\n",
              "      <td>27.78</td>\n",
              "      <td>Present</td>\n",
              "      <td>60</td>\n",
              "      <td>25.99</td>\n",
              "      <td>57.34</td>\n",
              "      <td>49</td>\n",
              "      <td>1</td>\n",
              "    </tr>\n",
              "  </tbody>\n",
              "</table>\n",
              "</div>"
            ],
            "text/plain": [
              "   sbp  tobacco   ldl  adiposity  ... obesity  alcohol  age  diagnosis\n",
              "0  160    12.00  5.73      23.11  ...   25.30    97.20   52          1\n",
              "1  144     0.01  4.41      28.61  ...   28.87     2.06   63          1\n",
              "2  118     0.08  3.48      32.28  ...   29.14     3.81   46          0\n",
              "3  170     7.50  6.41      38.03  ...   31.99    24.26   58          1\n",
              "4  134    13.60  3.50      27.78  ...   25.99    57.34   49          1\n",
              "\n",
              "[5 rows x 10 columns]"
            ]
          },
          "metadata": {
            "tags": []
          },
          "execution_count": 5
        }
      ]
    },
    {
      "cell_type": "markdown",
      "metadata": {
        "id": "t7k8zmQlIGUJ"
      },
      "source": [
        "## Lily"
      ]
    },
    {
      "cell_type": "markdown",
      "metadata": {
        "id": "rtNHFsq3FEDV"
      },
      "source": [
        "This is uploading Lily's cleaned dataset into the notebook"
      ]
    },
    {
      "cell_type": "code",
      "metadata": {
        "colab": {
          "base_uri": "https://localhost:8080/",
          "height": 204
        },
        "id": "tbbapSBOFLbq",
        "outputId": "337963b0-2081-4e5e-85af-1bacc2df073b"
      },
      "source": [
        "urlL = 'https://raw.githubusercontent.com/GGC-DSA/health-status-prediction/main/CLEANED%20Datasets/heart_failure_clinical_records_dataset_CLEANED.csv'\n",
        "dfL = pd.read_csv(urlL)\n",
        "dfL.head(5)"
      ],
      "execution_count": null,
      "outputs": [
        {
          "output_type": "execute_result",
          "data": {
            "text/html": [
              "<div>\n",
              "<style scoped>\n",
              "    .dataframe tbody tr th:only-of-type {\n",
              "        vertical-align: middle;\n",
              "    }\n",
              "\n",
              "    .dataframe tbody tr th {\n",
              "        vertical-align: top;\n",
              "    }\n",
              "\n",
              "    .dataframe thead th {\n",
              "        text-align: right;\n",
              "    }\n",
              "</style>\n",
              "<table border=\"1\" class=\"dataframe\">\n",
              "  <thead>\n",
              "    <tr style=\"text-align: right;\">\n",
              "      <th></th>\n",
              "      <th>age</th>\n",
              "      <th>diabetes</th>\n",
              "      <th>high_blood_pressure</th>\n",
              "      <th>sex</th>\n",
              "      <th>smoking</th>\n",
              "      <th>time</th>\n",
              "      <th>DEATH_EVENT</th>\n",
              "      <th>Unnamed: 7</th>\n",
              "    </tr>\n",
              "  </thead>\n",
              "  <tbody>\n",
              "    <tr>\n",
              "      <th>0</th>\n",
              "      <td>75.0</td>\n",
              "      <td>0</td>\n",
              "      <td>1</td>\n",
              "      <td>1</td>\n",
              "      <td>0</td>\n",
              "      <td>4</td>\n",
              "      <td>1</td>\n",
              "      <td>NaN</td>\n",
              "    </tr>\n",
              "    <tr>\n",
              "      <th>1</th>\n",
              "      <td>55.0</td>\n",
              "      <td>0</td>\n",
              "      <td>0</td>\n",
              "      <td>1</td>\n",
              "      <td>0</td>\n",
              "      <td>6</td>\n",
              "      <td>1</td>\n",
              "      <td>NaN</td>\n",
              "    </tr>\n",
              "    <tr>\n",
              "      <th>2</th>\n",
              "      <td>65.0</td>\n",
              "      <td>0</td>\n",
              "      <td>0</td>\n",
              "      <td>1</td>\n",
              "      <td>1</td>\n",
              "      <td>7</td>\n",
              "      <td>1</td>\n",
              "      <td>NaN</td>\n",
              "    </tr>\n",
              "    <tr>\n",
              "      <th>3</th>\n",
              "      <td>50.0</td>\n",
              "      <td>0</td>\n",
              "      <td>0</td>\n",
              "      <td>1</td>\n",
              "      <td>0</td>\n",
              "      <td>7</td>\n",
              "      <td>1</td>\n",
              "      <td>NaN</td>\n",
              "    </tr>\n",
              "    <tr>\n",
              "      <th>4</th>\n",
              "      <td>65.0</td>\n",
              "      <td>1</td>\n",
              "      <td>0</td>\n",
              "      <td>0</td>\n",
              "      <td>0</td>\n",
              "      <td>8</td>\n",
              "      <td>1</td>\n",
              "      <td>NaN</td>\n",
              "    </tr>\n",
              "  </tbody>\n",
              "</table>\n",
              "</div>"
            ],
            "text/plain": [
              "    age  diabetes  high_blood_pressure  ...  time  DEATH_EVENT  Unnamed: 7\n",
              "0  75.0         0                    1  ...     4            1         NaN\n",
              "1  55.0         0                    0  ...     6            1         NaN\n",
              "2  65.0         0                    0  ...     7            1         NaN\n",
              "3  50.0         0                    0  ...     7            1         NaN\n",
              "4  65.0         1                    0  ...     8            1         NaN\n",
              "\n",
              "[5 rows x 8 columns]"
            ]
          },
          "metadata": {
            "tags": []
          },
          "execution_count": 6
        }
      ]
    },
    {
      "cell_type": "markdown",
      "metadata": {
        "id": "nQAkywE0Ora_"
      },
      "source": [
        "This is cleaning up a little bit of Lily's dataset to better match the other datsets. This will help when the data is merged."
      ]
    },
    {
      "cell_type": "code",
      "metadata": {
        "colab": {
          "base_uri": "https://localhost:8080/",
          "height": 204
        },
        "id": "40TxW_5kOy6Q",
        "outputId": "3a2ac0b9-db21-44e1-c1ac-7b68c8688e07"
      },
      "source": [
        "# The following columns were dropped because they were unneeded\n",
        "dfL = dfL.drop(['time', 'Unnamed: 7'], axis = 1)\n",
        "# The following columns were renamed to better match the naming of other\n",
        "# columns in the datasets\n",
        "dfL = dfL.rename(columns = {'DEATH_EVENT' : 'death event',\n",
        "                 'high_blood_pressure' : 'hbp'})\n",
        "# This column's type was changed to match the type of other \"age\" columns from\n",
        "# other datasets\n",
        "dfL = dfL.astype({'age' : int})\n",
        "dfL.head(5)"
      ],
      "execution_count": null,
      "outputs": [
        {
          "output_type": "execute_result",
          "data": {
            "text/html": [
              "<div>\n",
              "<style scoped>\n",
              "    .dataframe tbody tr th:only-of-type {\n",
              "        vertical-align: middle;\n",
              "    }\n",
              "\n",
              "    .dataframe tbody tr th {\n",
              "        vertical-align: top;\n",
              "    }\n",
              "\n",
              "    .dataframe thead th {\n",
              "        text-align: right;\n",
              "    }\n",
              "</style>\n",
              "<table border=\"1\" class=\"dataframe\">\n",
              "  <thead>\n",
              "    <tr style=\"text-align: right;\">\n",
              "      <th></th>\n",
              "      <th>age</th>\n",
              "      <th>diabetes</th>\n",
              "      <th>hbp</th>\n",
              "      <th>sex</th>\n",
              "      <th>smoking</th>\n",
              "      <th>death event</th>\n",
              "    </tr>\n",
              "  </thead>\n",
              "  <tbody>\n",
              "    <tr>\n",
              "      <th>0</th>\n",
              "      <td>75</td>\n",
              "      <td>0</td>\n",
              "      <td>1</td>\n",
              "      <td>1</td>\n",
              "      <td>0</td>\n",
              "      <td>1</td>\n",
              "    </tr>\n",
              "    <tr>\n",
              "      <th>1</th>\n",
              "      <td>55</td>\n",
              "      <td>0</td>\n",
              "      <td>0</td>\n",
              "      <td>1</td>\n",
              "      <td>0</td>\n",
              "      <td>1</td>\n",
              "    </tr>\n",
              "    <tr>\n",
              "      <th>2</th>\n",
              "      <td>65</td>\n",
              "      <td>0</td>\n",
              "      <td>0</td>\n",
              "      <td>1</td>\n",
              "      <td>1</td>\n",
              "      <td>1</td>\n",
              "    </tr>\n",
              "    <tr>\n",
              "      <th>3</th>\n",
              "      <td>50</td>\n",
              "      <td>0</td>\n",
              "      <td>0</td>\n",
              "      <td>1</td>\n",
              "      <td>0</td>\n",
              "      <td>1</td>\n",
              "    </tr>\n",
              "    <tr>\n",
              "      <th>4</th>\n",
              "      <td>65</td>\n",
              "      <td>1</td>\n",
              "      <td>0</td>\n",
              "      <td>0</td>\n",
              "      <td>0</td>\n",
              "      <td>1</td>\n",
              "    </tr>\n",
              "  </tbody>\n",
              "</table>\n",
              "</div>"
            ],
            "text/plain": [
              "   age  diabetes  hbp  sex  smoking  death event\n",
              "0   75         0    1    1        0            1\n",
              "1   55         0    0    1        0            1\n",
              "2   65         0    0    1        1            1\n",
              "3   50         0    0    1        0            1\n",
              "4   65         1    0    0        0            1"
            ]
          },
          "metadata": {
            "tags": []
          },
          "execution_count": 7
        }
      ]
    },
    {
      "cell_type": "markdown",
      "metadata": {
        "id": "0lLoutc0IITG"
      },
      "source": [
        "## May"
      ]
    },
    {
      "cell_type": "code",
      "metadata": {
        "colab": {
          "base_uri": "https://localhost:8080/",
          "height": 1000
        },
        "id": "zS3iyjwGILo7",
        "outputId": "79b88af0-15d5-45c0-c0df-06c5cdd98462"
      },
      "source": [
        "urlMRisk = 'https://raw.githubusercontent.com/GGC-DSA/health-status-prediction/main/CLEANED%20Datasets/Risk_Dataset.csv'\n",
        "dfMRisk = pd.read_csv(urlMRisk)\n",
        "dfMRisk"
      ],
      "execution_count": null,
      "outputs": [
        {
          "output_type": "execute_result",
          "data": {
            "text/html": [
              "<div>\n",
              "<style scoped>\n",
              "    .dataframe tbody tr th:only-of-type {\n",
              "        vertical-align: middle;\n",
              "    }\n",
              "\n",
              "    .dataframe tbody tr th {\n",
              "        vertical-align: top;\n",
              "    }\n",
              "\n",
              "    .dataframe thead th {\n",
              "        text-align: right;\n",
              "    }\n",
              "</style>\n",
              "<table border=\"1\" class=\"dataframe\">\n",
              "  <thead>\n",
              "    <tr style=\"text-align: right;\">\n",
              "      <th></th>\n",
              "      <th>LocationAbbr</th>\n",
              "      <th>LocationDesc</th>\n",
              "      <th>Topic</th>\n",
              "      <th>Indicator</th>\n",
              "      <th>Data_Value_Type</th>\n",
              "      <th>Data_Value</th>\n",
              "      <th>Break_Out_Category</th>\n",
              "      <th>Break_Out</th>\n",
              "      <th>TopicId</th>\n",
              "      <th>IndicatorID</th>\n",
              "      <th>Data_Value_TypeID</th>\n",
              "      <th>BreakOutCategoryId</th>\n",
              "      <th>BreakOutId</th>\n",
              "      <th>LocationID</th>\n",
              "    </tr>\n",
              "  </thead>\n",
              "  <tbody>\n",
              "    <tr>\n",
              "      <th>0</th>\n",
              "      <td>US</td>\n",
              "      <td>United States</td>\n",
              "      <td>Physical Inactivity</td>\n",
              "      <td>Prevalence of physical inactivity among US adu...</td>\n",
              "      <td>Crude</td>\n",
              "      <td>40.1</td>\n",
              "      <td>Age</td>\n",
              "      <td>35+</td>\n",
              "      <td>T14</td>\n",
              "      <td>NS011</td>\n",
              "      <td>Crude</td>\n",
              "      <td>BOC03</td>\n",
              "      <td>AGE07</td>\n",
              "      <td>59</td>\n",
              "    </tr>\n",
              "    <tr>\n",
              "      <th>1</th>\n",
              "      <td>US</td>\n",
              "      <td>United States</td>\n",
              "      <td>Physical Inactivity</td>\n",
              "      <td>Prevalence of physical inactivity among US adu...</td>\n",
              "      <td>Crude</td>\n",
              "      <td>22.7</td>\n",
              "      <td>Age</td>\n",
              "      <td>18-24</td>\n",
              "      <td>T14</td>\n",
              "      <td>NS011</td>\n",
              "      <td>Crude</td>\n",
              "      <td>BOC03</td>\n",
              "      <td>AGE01</td>\n",
              "      <td>59</td>\n",
              "    </tr>\n",
              "    <tr>\n",
              "      <th>2</th>\n",
              "      <td>SOU</td>\n",
              "      <td>South</td>\n",
              "      <td>Smoking</td>\n",
              "      <td>Prevalence of current smoking among US adults ...</td>\n",
              "      <td>Crude</td>\n",
              "      <td>18.2</td>\n",
              "      <td>Gender</td>\n",
              "      <td>Male</td>\n",
              "      <td>T15</td>\n",
              "      <td>NS010</td>\n",
              "      <td>Crude</td>\n",
              "      <td>BOC02</td>\n",
              "      <td>GEN01</td>\n",
              "      <td>9003</td>\n",
              "    </tr>\n",
              "    <tr>\n",
              "      <th>3</th>\n",
              "      <td>SOU</td>\n",
              "      <td>South</td>\n",
              "      <td>Smoking</td>\n",
              "      <td>Prevalence of current smoking among US adults ...</td>\n",
              "      <td>Crude</td>\n",
              "      <td>22.8</td>\n",
              "      <td>Age</td>\n",
              "      <td>45-64</td>\n",
              "      <td>T15</td>\n",
              "      <td>NS010</td>\n",
              "      <td>Crude</td>\n",
              "      <td>BOC03</td>\n",
              "      <td>AGE05</td>\n",
              "      <td>9003</td>\n",
              "    </tr>\n",
              "    <tr>\n",
              "      <th>4</th>\n",
              "      <td>WEST</td>\n",
              "      <td>West</td>\n",
              "      <td>Smoking</td>\n",
              "      <td>Prevalence of current smoking among US adults ...</td>\n",
              "      <td>Crude</td>\n",
              "      <td>16.7</td>\n",
              "      <td>Age</td>\n",
              "      <td>45-64</td>\n",
              "      <td>T15</td>\n",
              "      <td>NS010</td>\n",
              "      <td>Crude</td>\n",
              "      <td>BOC03</td>\n",
              "      <td>AGE05</td>\n",
              "      <td>9004</td>\n",
              "    </tr>\n",
              "    <tr>\n",
              "      <th>...</th>\n",
              "      <td>...</td>\n",
              "      <td>...</td>\n",
              "      <td>...</td>\n",
              "      <td>...</td>\n",
              "      <td>...</td>\n",
              "      <td>...</td>\n",
              "      <td>...</td>\n",
              "      <td>...</td>\n",
              "      <td>...</td>\n",
              "      <td>...</td>\n",
              "      <td>...</td>\n",
              "      <td>...</td>\n",
              "      <td>...</td>\n",
              "      <td>...</td>\n",
              "    </tr>\n",
              "    <tr>\n",
              "      <th>7915</th>\n",
              "      <td>NRE</td>\n",
              "      <td>Northeast</td>\n",
              "      <td>Hypertension</td>\n",
              "      <td>Prevalence of adults who have had their blood ...</td>\n",
              "      <td>Age-Standardized</td>\n",
              "      <td>NaN</td>\n",
              "      <td>Gender</td>\n",
              "      <td>Female</td>\n",
              "      <td>T9</td>\n",
              "      <td>NS013</td>\n",
              "      <td>AgeStdz</td>\n",
              "      <td>BOC02</td>\n",
              "      <td>GEN02</td>\n",
              "      <td>9001</td>\n",
              "    </tr>\n",
              "    <tr>\n",
              "      <th>7916</th>\n",
              "      <td>WEST</td>\n",
              "      <td>West</td>\n",
              "      <td>Hypertension</td>\n",
              "      <td>Prevalence of adults who have had their blood ...</td>\n",
              "      <td>Age-Standardized</td>\n",
              "      <td>NaN</td>\n",
              "      <td>Race</td>\n",
              "      <td>Non-Hispanic White</td>\n",
              "      <td>T9</td>\n",
              "      <td>NS013</td>\n",
              "      <td>AgeStdz</td>\n",
              "      <td>BOC04</td>\n",
              "      <td>RAC01</td>\n",
              "      <td>9004</td>\n",
              "    </tr>\n",
              "    <tr>\n",
              "      <th>7917</th>\n",
              "      <td>WEST</td>\n",
              "      <td>West</td>\n",
              "      <td>Hypertension</td>\n",
              "      <td>Prevalence of adults who have had their blood ...</td>\n",
              "      <td>Age-Standardized</td>\n",
              "      <td>NaN</td>\n",
              "      <td>Gender</td>\n",
              "      <td>Male</td>\n",
              "      <td>T9</td>\n",
              "      <td>NS013</td>\n",
              "      <td>AgeStdz</td>\n",
              "      <td>BOC02</td>\n",
              "      <td>GEN01</td>\n",
              "      <td>9004</td>\n",
              "    </tr>\n",
              "    <tr>\n",
              "      <th>7918</th>\n",
              "      <td>SOU</td>\n",
              "      <td>South</td>\n",
              "      <td>Hypertension</td>\n",
              "      <td>Prevalence of adults who have had their blood ...</td>\n",
              "      <td>Age-Standardized</td>\n",
              "      <td>NaN</td>\n",
              "      <td>Race</td>\n",
              "      <td>Non-Hispanic White</td>\n",
              "      <td>T9</td>\n",
              "      <td>NS013</td>\n",
              "      <td>AgeStdz</td>\n",
              "      <td>BOC04</td>\n",
              "      <td>RAC01</td>\n",
              "      <td>9003</td>\n",
              "    </tr>\n",
              "    <tr>\n",
              "      <th>7919</th>\n",
              "      <td>SOU</td>\n",
              "      <td>South</td>\n",
              "      <td>Hypertension</td>\n",
              "      <td>Prevalence of adults who have had their blood ...</td>\n",
              "      <td>Crude</td>\n",
              "      <td>NaN</td>\n",
              "      <td>Gender</td>\n",
              "      <td>Female</td>\n",
              "      <td>T9</td>\n",
              "      <td>NS013</td>\n",
              "      <td>Crude</td>\n",
              "      <td>BOC02</td>\n",
              "      <td>GEN02</td>\n",
              "      <td>9003</td>\n",
              "    </tr>\n",
              "  </tbody>\n",
              "</table>\n",
              "<p>7920 rows × 14 columns</p>\n",
              "</div>"
            ],
            "text/plain": [
              "     LocationAbbr   LocationDesc  ... BreakOutId LocationID\n",
              "0              US  United States  ...      AGE07         59\n",
              "1              US  United States  ...      AGE01         59\n",
              "2             SOU          South  ...      GEN01       9003\n",
              "3             SOU          South  ...      AGE05       9003\n",
              "4            WEST           West  ...      AGE05       9004\n",
              "...           ...            ...  ...        ...        ...\n",
              "7915          NRE      Northeast  ...      GEN02       9001\n",
              "7916         WEST           West  ...      RAC01       9004\n",
              "7917         WEST           West  ...      GEN01       9004\n",
              "7918          SOU          South  ...      RAC01       9003\n",
              "7919          SOU          South  ...      GEN02       9003\n",
              "\n",
              "[7920 rows x 14 columns]"
            ]
          },
          "metadata": {
            "tags": []
          },
          "execution_count": 8
        }
      ]
    },
    {
      "cell_type": "code",
      "metadata": {
        "colab": {
          "base_uri": "https://localhost:8080/",
          "height": 530
        },
        "id": "JIGqwit6XAjy",
        "outputId": "81725c1e-ad25-4457-af5a-06d9df5e9499"
      },
      "source": [
        "urlMCardio = 'https://raw.githubusercontent.com/GGC-DSA/health-status-prediction/main/CLEANED%20Datasets/Cardio_Dataset.csv'\n",
        "dfMCardio = pd.read_csv(urlMCardio)\n",
        "dfMCardio.head(5)"
      ],
      "execution_count": null,
      "outputs": [
        {
          "output_type": "execute_result",
          "data": {
            "text/html": [
              "<div>\n",
              "<style scoped>\n",
              "    .dataframe tbody tr th:only-of-type {\n",
              "        vertical-align: middle;\n",
              "    }\n",
              "\n",
              "    .dataframe tbody tr th {\n",
              "        vertical-align: top;\n",
              "    }\n",
              "\n",
              "    .dataframe thead th {\n",
              "        text-align: right;\n",
              "    }\n",
              "</style>\n",
              "<table border=\"1\" class=\"dataframe\">\n",
              "  <thead>\n",
              "    <tr style=\"text-align: right;\">\n",
              "      <th></th>\n",
              "      <th>LocationAbbr</th>\n",
              "      <th>LocationDesc</th>\n",
              "      <th>Topic</th>\n",
              "      <th>Indicator</th>\n",
              "      <th>Data_Value_Type</th>\n",
              "      <th>Data_Value</th>\n",
              "      <th>Break_Out_Category</th>\n",
              "      <th>Break_Out</th>\n",
              "      <th>TopicId</th>\n",
              "      <th>IndicatorID</th>\n",
              "      <th>Data_Value_TypeID</th>\n",
              "      <th>BreakOutCategoryId</th>\n",
              "      <th>BreakOutId</th>\n",
              "      <th>LocationID</th>\n",
              "    </tr>\n",
              "  </thead>\n",
              "  <tbody>\n",
              "    <tr>\n",
              "      <th>0</th>\n",
              "      <td>US</td>\n",
              "      <td>United States</td>\n",
              "      <td>Major Cardiovascular Disease</td>\n",
              "      <td>Prevalence of major cardiovascular disease amo...</td>\n",
              "      <td>Crude</td>\n",
              "      <td>5.9</td>\n",
              "      <td>Gender</td>\n",
              "      <td>Female</td>\n",
              "      <td>T1</td>\n",
              "      <td>NS001</td>\n",
              "      <td>Crude</td>\n",
              "      <td>BOC02</td>\n",
              "      <td>GEN02</td>\n",
              "      <td>59</td>\n",
              "    </tr>\n",
              "    <tr>\n",
              "      <th>1</th>\n",
              "      <td>WEST</td>\n",
              "      <td>West</td>\n",
              "      <td>Major Cardiovascular Disease</td>\n",
              "      <td>Prevalence of major cardiovascular disease amo...</td>\n",
              "      <td>Age-Standardized</td>\n",
              "      <td>6.7</td>\n",
              "      <td>Race</td>\n",
              "      <td>Non-Hispanic White</td>\n",
              "      <td>T1</td>\n",
              "      <td>NS001</td>\n",
              "      <td>AgeStdz</td>\n",
              "      <td>BOC04</td>\n",
              "      <td>RAC01</td>\n",
              "      <td>9004</td>\n",
              "    </tr>\n",
              "    <tr>\n",
              "      <th>2</th>\n",
              "      <td>NRE</td>\n",
              "      <td>Northeast</td>\n",
              "      <td>Coronary Heart Disease</td>\n",
              "      <td>Prevalence of coronary heart disease among US ...</td>\n",
              "      <td>Crude</td>\n",
              "      <td>4.9</td>\n",
              "      <td>Age</td>\n",
              "      <td>45-64</td>\n",
              "      <td>T4</td>\n",
              "      <td>NS002</td>\n",
              "      <td>Crude</td>\n",
              "      <td>BOC03</td>\n",
              "      <td>AGE05</td>\n",
              "      <td>9001</td>\n",
              "    </tr>\n",
              "    <tr>\n",
              "      <th>3</th>\n",
              "      <td>NRE</td>\n",
              "      <td>Northeast</td>\n",
              "      <td>Major Cardiovascular Disease</td>\n",
              "      <td>Prevalence of major cardiovascular disease amo...</td>\n",
              "      <td>Crude</td>\n",
              "      <td>11.5</td>\n",
              "      <td>Age</td>\n",
              "      <td>35+</td>\n",
              "      <td>T1</td>\n",
              "      <td>NS001</td>\n",
              "      <td>Crude</td>\n",
              "      <td>BOC03</td>\n",
              "      <td>AGE07</td>\n",
              "      <td>9001</td>\n",
              "    </tr>\n",
              "    <tr>\n",
              "      <th>4</th>\n",
              "      <td>MDW</td>\n",
              "      <td>Midwest</td>\n",
              "      <td>Stroke</td>\n",
              "      <td>Prevalence of stroke among US adults (18+); NHIS</td>\n",
              "      <td>Crude</td>\n",
              "      <td>2.9</td>\n",
              "      <td>Age</td>\n",
              "      <td>45-64</td>\n",
              "      <td>T6</td>\n",
              "      <td>NS004</td>\n",
              "      <td>Crude</td>\n",
              "      <td>BOC03</td>\n",
              "      <td>AGE05</td>\n",
              "      <td>9002</td>\n",
              "    </tr>\n",
              "  </tbody>\n",
              "</table>\n",
              "</div>"
            ],
            "text/plain": [
              "  LocationAbbr   LocationDesc  ... BreakOutId LocationID\n",
              "0           US  United States  ...      GEN02         59\n",
              "1         WEST           West  ...      RAC01       9004\n",
              "2          NRE      Northeast  ...      AGE05       9001\n",
              "3          NRE      Northeast  ...      AGE07       9001\n",
              "4          MDW        Midwest  ...      AGE05       9002\n",
              "\n",
              "[5 rows x 14 columns]"
            ]
          },
          "metadata": {
            "tags": []
          },
          "execution_count": 9
        }
      ]
    },
    {
      "cell_type": "markdown",
      "metadata": {
        "id": "V3-5sZrVYm6R"
      },
      "source": [
        "# Combining the datasets"
      ]
    },
    {
      "cell_type": "code",
      "metadata": {
        "colab": {
          "base_uri": "https://localhost:8080/",
          "height": 456
        },
        "id": "f0q30UsGYskh",
        "outputId": "62d0af73-8e57-4a03-b51f-12fadd4e183b"
      },
      "source": [
        "# This line merges Ruth's and Lily's datasets\n",
        "dfC = pd.merge(dfR, dfL, how = 'outer', on = ['age', 'sex'])\n",
        "\n",
        "# This line combines dfC with Sarah's dataset\n",
        "dfC = pd.merge(dfC, dfS, how = 'outer', on = ['age', 'diagnosis'])\n",
        "\n",
        "# This line reorganizes the columns to be in an order that\n",
        "# makes more sense\n",
        "dfC = dfC[['age', 'sex', 'diagnosis', 'famhist', 'diabetes', 'smoking', \n",
        "           'death event', 'rbp', 'hbp', 'sbp', 'serum cholesterol', 'ldl',\n",
        "           'tobacco', 'adiposity', 'typea', 'obesity', 'alcohol']]\n",
        "\n",
        "dfC"
      ],
      "execution_count": null,
      "outputs": [
        {
          "output_type": "execute_result",
          "data": {
            "text/html": [
              "<div>\n",
              "<style scoped>\n",
              "    .dataframe tbody tr th:only-of-type {\n",
              "        vertical-align: middle;\n",
              "    }\n",
              "\n",
              "    .dataframe tbody tr th {\n",
              "        vertical-align: top;\n",
              "    }\n",
              "\n",
              "    .dataframe thead th {\n",
              "        text-align: right;\n",
              "    }\n",
              "</style>\n",
              "<table border=\"1\" class=\"dataframe\">\n",
              "  <thead>\n",
              "    <tr style=\"text-align: right;\">\n",
              "      <th></th>\n",
              "      <th>age</th>\n",
              "      <th>sex</th>\n",
              "      <th>diagnosis</th>\n",
              "      <th>famhist</th>\n",
              "      <th>diabetes</th>\n",
              "      <th>smoking</th>\n",
              "      <th>death event</th>\n",
              "      <th>rbp</th>\n",
              "      <th>hbp</th>\n",
              "      <th>sbp</th>\n",
              "      <th>serum cholesterol</th>\n",
              "      <th>ldl</th>\n",
              "      <th>tobacco</th>\n",
              "      <th>adiposity</th>\n",
              "      <th>typea</th>\n",
              "      <th>obesity</th>\n",
              "      <th>alcohol</th>\n",
              "    </tr>\n",
              "  </thead>\n",
              "  <tbody>\n",
              "    <tr>\n",
              "      <th>0</th>\n",
              "      <td>63</td>\n",
              "      <td>1.0</td>\n",
              "      <td>1.0</td>\n",
              "      <td>Absent</td>\n",
              "      <td>1.0</td>\n",
              "      <td>0.0</td>\n",
              "      <td>0.0</td>\n",
              "      <td>145.0</td>\n",
              "      <td>1.0</td>\n",
              "      <td>144.0</td>\n",
              "      <td>233.0</td>\n",
              "      <td>4.41</td>\n",
              "      <td>0.01</td>\n",
              "      <td>28.61</td>\n",
              "      <td>55.0</td>\n",
              "      <td>28.87</td>\n",
              "      <td>2.06</td>\n",
              "    </tr>\n",
              "    <tr>\n",
              "      <th>1</th>\n",
              "      <td>63</td>\n",
              "      <td>1.0</td>\n",
              "      <td>1.0</td>\n",
              "      <td>Absent</td>\n",
              "      <td>1.0</td>\n",
              "      <td>0.0</td>\n",
              "      <td>0.0</td>\n",
              "      <td>145.0</td>\n",
              "      <td>1.0</td>\n",
              "      <td>146.0</td>\n",
              "      <td>233.0</td>\n",
              "      <td>6.62</td>\n",
              "      <td>0.00</td>\n",
              "      <td>25.69</td>\n",
              "      <td>60.0</td>\n",
              "      <td>28.07</td>\n",
              "      <td>8.23</td>\n",
              "    </tr>\n",
              "    <tr>\n",
              "      <th>2</th>\n",
              "      <td>63</td>\n",
              "      <td>1.0</td>\n",
              "      <td>1.0</td>\n",
              "      <td>Absent</td>\n",
              "      <td>1.0</td>\n",
              "      <td>0.0</td>\n",
              "      <td>0.0</td>\n",
              "      <td>145.0</td>\n",
              "      <td>1.0</td>\n",
              "      <td>166.0</td>\n",
              "      <td>233.0</td>\n",
              "      <td>3.82</td>\n",
              "      <td>3.00</td>\n",
              "      <td>26.75</td>\n",
              "      <td>45.0</td>\n",
              "      <td>20.86</td>\n",
              "      <td>0.00</td>\n",
              "    </tr>\n",
              "    <tr>\n",
              "      <th>3</th>\n",
              "      <td>63</td>\n",
              "      <td>1.0</td>\n",
              "      <td>1.0</td>\n",
              "      <td>Present</td>\n",
              "      <td>1.0</td>\n",
              "      <td>0.0</td>\n",
              "      <td>0.0</td>\n",
              "      <td>145.0</td>\n",
              "      <td>1.0</td>\n",
              "      <td>136.0</td>\n",
              "      <td>233.0</td>\n",
              "      <td>4.69</td>\n",
              "      <td>8.80</td>\n",
              "      <td>36.07</td>\n",
              "      <td>38.0</td>\n",
              "      <td>26.56</td>\n",
              "      <td>2.78</td>\n",
              "    </tr>\n",
              "    <tr>\n",
              "      <th>4</th>\n",
              "      <td>63</td>\n",
              "      <td>1.0</td>\n",
              "      <td>1.0</td>\n",
              "      <td>Absent</td>\n",
              "      <td>0.0</td>\n",
              "      <td>1.0</td>\n",
              "      <td>0.0</td>\n",
              "      <td>145.0</td>\n",
              "      <td>0.0</td>\n",
              "      <td>144.0</td>\n",
              "      <td>233.0</td>\n",
              "      <td>4.41</td>\n",
              "      <td>0.01</td>\n",
              "      <td>28.61</td>\n",
              "      <td>55.0</td>\n",
              "      <td>28.87</td>\n",
              "      <td>2.06</td>\n",
              "    </tr>\n",
              "    <tr>\n",
              "      <th>...</th>\n",
              "      <td>...</td>\n",
              "      <td>...</td>\n",
              "      <td>...</td>\n",
              "      <td>...</td>\n",
              "      <td>...</td>\n",
              "      <td>...</td>\n",
              "      <td>...</td>\n",
              "      <td>...</td>\n",
              "      <td>...</td>\n",
              "      <td>...</td>\n",
              "      <td>...</td>\n",
              "      <td>...</td>\n",
              "      <td>...</td>\n",
              "      <td>...</td>\n",
              "      <td>...</td>\n",
              "      <td>...</td>\n",
              "      <td>...</td>\n",
              "    </tr>\n",
              "    <tr>\n",
              "      <th>6006</th>\n",
              "      <td>17</td>\n",
              "      <td>NaN</td>\n",
              "      <td>1.0</td>\n",
              "      <td>Absent</td>\n",
              "      <td>NaN</td>\n",
              "      <td>NaN</td>\n",
              "      <td>NaN</td>\n",
              "      <td>NaN</td>\n",
              "      <td>NaN</td>\n",
              "      <td>118.0</td>\n",
              "      <td>NaN</td>\n",
              "      <td>2.39</td>\n",
              "      <td>0.00</td>\n",
              "      <td>12.13</td>\n",
              "      <td>49.0</td>\n",
              "      <td>18.46</td>\n",
              "      <td>0.26</td>\n",
              "    </tr>\n",
              "    <tr>\n",
              "      <th>6007</th>\n",
              "      <td>19</td>\n",
              "      <td>NaN</td>\n",
              "      <td>0.0</td>\n",
              "      <td>Absent</td>\n",
              "      <td>NaN</td>\n",
              "      <td>NaN</td>\n",
              "      <td>NaN</td>\n",
              "      <td>NaN</td>\n",
              "      <td>NaN</td>\n",
              "      <td>134.0</td>\n",
              "      <td>NaN</td>\n",
              "      <td>3.69</td>\n",
              "      <td>0.00</td>\n",
              "      <td>13.92</td>\n",
              "      <td>43.0</td>\n",
              "      <td>27.66</td>\n",
              "      <td>0.00</td>\n",
              "    </tr>\n",
              "    <tr>\n",
              "      <th>6008</th>\n",
              "      <td>19</td>\n",
              "      <td>NaN</td>\n",
              "      <td>0.0</td>\n",
              "      <td>Absent</td>\n",
              "      <td>NaN</td>\n",
              "      <td>NaN</td>\n",
              "      <td>NaN</td>\n",
              "      <td>NaN</td>\n",
              "      <td>NaN</td>\n",
              "      <td>128.0</td>\n",
              "      <td>NaN</td>\n",
              "      <td>2.98</td>\n",
              "      <td>0.00</td>\n",
              "      <td>12.59</td>\n",
              "      <td>65.0</td>\n",
              "      <td>20.74</td>\n",
              "      <td>2.06</td>\n",
              "    </tr>\n",
              "    <tr>\n",
              "      <th>6009</th>\n",
              "      <td>36</td>\n",
              "      <td>NaN</td>\n",
              "      <td>1.0</td>\n",
              "      <td>Absent</td>\n",
              "      <td>NaN</td>\n",
              "      <td>NaN</td>\n",
              "      <td>NaN</td>\n",
              "      <td>NaN</td>\n",
              "      <td>NaN</td>\n",
              "      <td>156.0</td>\n",
              "      <td>NaN</td>\n",
              "      <td>3.47</td>\n",
              "      <td>0.00</td>\n",
              "      <td>21.10</td>\n",
              "      <td>73.0</td>\n",
              "      <td>28.40</td>\n",
              "      <td>0.00</td>\n",
              "    </tr>\n",
              "    <tr>\n",
              "      <th>6010</th>\n",
              "      <td>26</td>\n",
              "      <td>NaN</td>\n",
              "      <td>1.0</td>\n",
              "      <td>Present</td>\n",
              "      <td>NaN</td>\n",
              "      <td>NaN</td>\n",
              "      <td>NaN</td>\n",
              "      <td>NaN</td>\n",
              "      <td>NaN</td>\n",
              "      <td>198.0</td>\n",
              "      <td>NaN</td>\n",
              "      <td>11.89</td>\n",
              "      <td>0.52</td>\n",
              "      <td>27.68</td>\n",
              "      <td>48.0</td>\n",
              "      <td>28.40</td>\n",
              "      <td>78.99</td>\n",
              "    </tr>\n",
              "  </tbody>\n",
              "</table>\n",
              "<p>6011 rows × 17 columns</p>\n",
              "</div>"
            ],
            "text/plain": [
              "      age  sex  diagnosis  famhist  ...  adiposity  typea  obesity  alcohol\n",
              "0      63  1.0        1.0   Absent  ...      28.61   55.0    28.87     2.06\n",
              "1      63  1.0        1.0   Absent  ...      25.69   60.0    28.07     8.23\n",
              "2      63  1.0        1.0   Absent  ...      26.75   45.0    20.86     0.00\n",
              "3      63  1.0        1.0  Present  ...      36.07   38.0    26.56     2.78\n",
              "4      63  1.0        1.0   Absent  ...      28.61   55.0    28.87     2.06\n",
              "...   ...  ...        ...      ...  ...        ...    ...      ...      ...\n",
              "6006   17  NaN        1.0   Absent  ...      12.13   49.0    18.46     0.26\n",
              "6007   19  NaN        0.0   Absent  ...      13.92   43.0    27.66     0.00\n",
              "6008   19  NaN        0.0   Absent  ...      12.59   65.0    20.74     2.06\n",
              "6009   36  NaN        1.0   Absent  ...      21.10   73.0    28.40     0.00\n",
              "6010   26  NaN        1.0  Present  ...      27.68   48.0    28.40    78.99\n",
              "\n",
              "[6011 rows x 17 columns]"
            ]
          },
          "metadata": {
            "tags": []
          },
          "execution_count": 10
        }
      ]
    },
    {
      "cell_type": "code",
      "metadata": {
        "colab": {
          "base_uri": "https://localhost:8080/",
          "height": 436
        },
        "id": "EkkqBhElaS_g",
        "outputId": "fe19db6d-3f0b-4360-ebd3-3aed684fbdcc"
      },
      "source": [
        "dfC['sex'] = dfC['sex'].fillna(1)\n",
        "dropped_df = dfC.dropna(axis=0,how='any')\n",
        "\n",
        "dropped_df"
      ],
      "execution_count": null,
      "outputs": [
        {
          "output_type": "execute_result",
          "data": {
            "text/html": [
              "<div>\n",
              "<style scoped>\n",
              "    .dataframe tbody tr th:only-of-type {\n",
              "        vertical-align: middle;\n",
              "    }\n",
              "\n",
              "    .dataframe tbody tr th {\n",
              "        vertical-align: top;\n",
              "    }\n",
              "\n",
              "    .dataframe thead th {\n",
              "        text-align: right;\n",
              "    }\n",
              "</style>\n",
              "<table border=\"1\" class=\"dataframe\">\n",
              "  <thead>\n",
              "    <tr style=\"text-align: right;\">\n",
              "      <th></th>\n",
              "      <th>age</th>\n",
              "      <th>sex</th>\n",
              "      <th>diagnosis</th>\n",
              "      <th>famhist</th>\n",
              "      <th>diabetes</th>\n",
              "      <th>smoking</th>\n",
              "      <th>death event</th>\n",
              "      <th>rbp</th>\n",
              "      <th>hbp</th>\n",
              "      <th>sbp</th>\n",
              "      <th>serum cholesterol</th>\n",
              "      <th>ldl</th>\n",
              "      <th>tobacco</th>\n",
              "      <th>adiposity</th>\n",
              "      <th>typea</th>\n",
              "      <th>obesity</th>\n",
              "      <th>alcohol</th>\n",
              "    </tr>\n",
              "  </thead>\n",
              "  <tbody>\n",
              "    <tr>\n",
              "      <th>0</th>\n",
              "      <td>63</td>\n",
              "      <td>1.0</td>\n",
              "      <td>1.0</td>\n",
              "      <td>Absent</td>\n",
              "      <td>1.0</td>\n",
              "      <td>0.0</td>\n",
              "      <td>0.0</td>\n",
              "      <td>145.0</td>\n",
              "      <td>1.0</td>\n",
              "      <td>144.0</td>\n",
              "      <td>233.0</td>\n",
              "      <td>4.41</td>\n",
              "      <td>0.01</td>\n",
              "      <td>28.61</td>\n",
              "      <td>55.0</td>\n",
              "      <td>28.87</td>\n",
              "      <td>2.06</td>\n",
              "    </tr>\n",
              "    <tr>\n",
              "      <th>1</th>\n",
              "      <td>63</td>\n",
              "      <td>1.0</td>\n",
              "      <td>1.0</td>\n",
              "      <td>Absent</td>\n",
              "      <td>1.0</td>\n",
              "      <td>0.0</td>\n",
              "      <td>0.0</td>\n",
              "      <td>145.0</td>\n",
              "      <td>1.0</td>\n",
              "      <td>146.0</td>\n",
              "      <td>233.0</td>\n",
              "      <td>6.62</td>\n",
              "      <td>0.00</td>\n",
              "      <td>25.69</td>\n",
              "      <td>60.0</td>\n",
              "      <td>28.07</td>\n",
              "      <td>8.23</td>\n",
              "    </tr>\n",
              "    <tr>\n",
              "      <th>2</th>\n",
              "      <td>63</td>\n",
              "      <td>1.0</td>\n",
              "      <td>1.0</td>\n",
              "      <td>Absent</td>\n",
              "      <td>1.0</td>\n",
              "      <td>0.0</td>\n",
              "      <td>0.0</td>\n",
              "      <td>145.0</td>\n",
              "      <td>1.0</td>\n",
              "      <td>166.0</td>\n",
              "      <td>233.0</td>\n",
              "      <td>3.82</td>\n",
              "      <td>3.00</td>\n",
              "      <td>26.75</td>\n",
              "      <td>45.0</td>\n",
              "      <td>20.86</td>\n",
              "      <td>0.00</td>\n",
              "    </tr>\n",
              "    <tr>\n",
              "      <th>3</th>\n",
              "      <td>63</td>\n",
              "      <td>1.0</td>\n",
              "      <td>1.0</td>\n",
              "      <td>Present</td>\n",
              "      <td>1.0</td>\n",
              "      <td>0.0</td>\n",
              "      <td>0.0</td>\n",
              "      <td>145.0</td>\n",
              "      <td>1.0</td>\n",
              "      <td>136.0</td>\n",
              "      <td>233.0</td>\n",
              "      <td>4.69</td>\n",
              "      <td>8.80</td>\n",
              "      <td>36.07</td>\n",
              "      <td>38.0</td>\n",
              "      <td>26.56</td>\n",
              "      <td>2.78</td>\n",
              "    </tr>\n",
              "    <tr>\n",
              "      <th>4</th>\n",
              "      <td>63</td>\n",
              "      <td>1.0</td>\n",
              "      <td>1.0</td>\n",
              "      <td>Absent</td>\n",
              "      <td>0.0</td>\n",
              "      <td>1.0</td>\n",
              "      <td>0.0</td>\n",
              "      <td>145.0</td>\n",
              "      <td>0.0</td>\n",
              "      <td>144.0</td>\n",
              "      <td>233.0</td>\n",
              "      <td>4.41</td>\n",
              "      <td>0.01</td>\n",
              "      <td>28.61</td>\n",
              "      <td>55.0</td>\n",
              "      <td>28.87</td>\n",
              "      <td>2.06</td>\n",
              "    </tr>\n",
              "    <tr>\n",
              "      <th>...</th>\n",
              "      <td>...</td>\n",
              "      <td>...</td>\n",
              "      <td>...</td>\n",
              "      <td>...</td>\n",
              "      <td>...</td>\n",
              "      <td>...</td>\n",
              "      <td>...</td>\n",
              "      <td>...</td>\n",
              "      <td>...</td>\n",
              "      <td>...</td>\n",
              "      <td>...</td>\n",
              "      <td>...</td>\n",
              "      <td>...</td>\n",
              "      <td>...</td>\n",
              "      <td>...</td>\n",
              "      <td>...</td>\n",
              "      <td>...</td>\n",
              "    </tr>\n",
              "    <tr>\n",
              "      <th>5732</th>\n",
              "      <td>50</td>\n",
              "      <td>1.0</td>\n",
              "      <td>0.0</td>\n",
              "      <td>Present</td>\n",
              "      <td>0.0</td>\n",
              "      <td>1.0</td>\n",
              "      <td>0.0</td>\n",
              "      <td>144.0</td>\n",
              "      <td>0.0</td>\n",
              "      <td>150.0</td>\n",
              "      <td>200.0</td>\n",
              "      <td>6.38</td>\n",
              "      <td>0.30</td>\n",
              "      <td>33.99</td>\n",
              "      <td>62.0</td>\n",
              "      <td>24.64</td>\n",
              "      <td>0.00</td>\n",
              "    </tr>\n",
              "    <tr>\n",
              "      <th>5733</th>\n",
              "      <td>50</td>\n",
              "      <td>1.0</td>\n",
              "      <td>0.0</td>\n",
              "      <td>Absent</td>\n",
              "      <td>0.0</td>\n",
              "      <td>1.0</td>\n",
              "      <td>0.0</td>\n",
              "      <td>144.0</td>\n",
              "      <td>0.0</td>\n",
              "      <td>142.0</td>\n",
              "      <td>200.0</td>\n",
              "      <td>4.34</td>\n",
              "      <td>18.20</td>\n",
              "      <td>24.38</td>\n",
              "      <td>61.0</td>\n",
              "      <td>26.19</td>\n",
              "      <td>0.00</td>\n",
              "    </tr>\n",
              "    <tr>\n",
              "      <th>5734</th>\n",
              "      <td>50</td>\n",
              "      <td>1.0</td>\n",
              "      <td>0.0</td>\n",
              "      <td>Present</td>\n",
              "      <td>0.0</td>\n",
              "      <td>1.0</td>\n",
              "      <td>0.0</td>\n",
              "      <td>144.0</td>\n",
              "      <td>0.0</td>\n",
              "      <td>136.0</td>\n",
              "      <td>200.0</td>\n",
              "      <td>7.85</td>\n",
              "      <td>8.00</td>\n",
              "      <td>23.81</td>\n",
              "      <td>51.0</td>\n",
              "      <td>22.69</td>\n",
              "      <td>2.78</td>\n",
              "    </tr>\n",
              "    <tr>\n",
              "      <th>5735</th>\n",
              "      <td>50</td>\n",
              "      <td>1.0</td>\n",
              "      <td>0.0</td>\n",
              "      <td>Absent</td>\n",
              "      <td>0.0</td>\n",
              "      <td>1.0</td>\n",
              "      <td>0.0</td>\n",
              "      <td>144.0</td>\n",
              "      <td>0.0</td>\n",
              "      <td>190.0</td>\n",
              "      <td>200.0</td>\n",
              "      <td>6.03</td>\n",
              "      <td>5.15</td>\n",
              "      <td>36.59</td>\n",
              "      <td>42.0</td>\n",
              "      <td>30.31</td>\n",
              "      <td>72.00</td>\n",
              "    </tr>\n",
              "    <tr>\n",
              "      <th>5736</th>\n",
              "      <td>50</td>\n",
              "      <td>1.0</td>\n",
              "      <td>0.0</td>\n",
              "      <td>Present</td>\n",
              "      <td>0.0</td>\n",
              "      <td>1.0</td>\n",
              "      <td>0.0</td>\n",
              "      <td>144.0</td>\n",
              "      <td>0.0</td>\n",
              "      <td>132.0</td>\n",
              "      <td>200.0</td>\n",
              "      <td>5.15</td>\n",
              "      <td>4.05</td>\n",
              "      <td>26.51</td>\n",
              "      <td>31.0</td>\n",
              "      <td>26.67</td>\n",
              "      <td>16.30</td>\n",
              "    </tr>\n",
              "  </tbody>\n",
              "</table>\n",
              "<p>5455 rows × 17 columns</p>\n",
              "</div>"
            ],
            "text/plain": [
              "      age  sex  diagnosis  famhist  ...  adiposity  typea  obesity  alcohol\n",
              "0      63  1.0        1.0   Absent  ...      28.61   55.0    28.87     2.06\n",
              "1      63  1.0        1.0   Absent  ...      25.69   60.0    28.07     8.23\n",
              "2      63  1.0        1.0   Absent  ...      26.75   45.0    20.86     0.00\n",
              "3      63  1.0        1.0  Present  ...      36.07   38.0    26.56     2.78\n",
              "4      63  1.0        1.0   Absent  ...      28.61   55.0    28.87     2.06\n",
              "...   ...  ...        ...      ...  ...        ...    ...      ...      ...\n",
              "5732   50  1.0        0.0  Present  ...      33.99   62.0    24.64     0.00\n",
              "5733   50  1.0        0.0   Absent  ...      24.38   61.0    26.19     0.00\n",
              "5734   50  1.0        0.0  Present  ...      23.81   51.0    22.69     2.78\n",
              "5735   50  1.0        0.0   Absent  ...      36.59   42.0    30.31    72.00\n",
              "5736   50  1.0        0.0  Present  ...      26.51   31.0    26.67    16.30\n",
              "\n",
              "[5455 rows x 17 columns]"
            ]
          },
          "metadata": {
            "tags": []
          },
          "execution_count": 11
        }
      ]
    },
    {
      "cell_type": "markdown",
      "metadata": {
        "id": "UmgFkRxLcj5s"
      },
      "source": [
        "# Hypotheses\n",
        "\n",
        "As a group, we determined 5 hypotheses we wanted to test based on the exploration of our individual datasets. Because of challenges with the combination of the datasets, we have 4 hypotheses on the merged dataset (Sarah, Ruth, Lily), and one on the individual (May).\n",
        "\n",
        "### Merged\n",
        "*   The higher the cholesterol, the more likely a person is to have heart disease\n",
        "*   Older patients have a higher likelihood of being heart disease positive\n",
        "*   There is a direct correlation between patients who have diabetes and those who have heart disease.\n",
        "\n",
        "### Individual\n",
        "*   Using hypertention, physical inactivity, and smoking as risk factors, people are at the highest risk for cardiovascular disease if they have hypertension.\n",
        "\n",
        "\n",
        "\n",
        "\n",
        "\n",
        "\n",
        "\n"
      ]
    },
    {
      "cell_type": "markdown",
      "metadata": {
        "id": "SWFhDNwCK2lc"
      },
      "source": [
        "# Regression Analysis\n",
        "\n",
        "To determine the validity of the hypotheses we've formulated, we're running a linear regression tests between the factors in each hypothesis. We will test this using an R<sup>2</sup> value - this is a number between 0 and 1 that tells you how strongly correlated the factors are. The closer the R<sup>2</sup> value is to 1, the stronger the correlation. For simplicity sake, we will be looking at the correlations using a Linear Regression model."
      ]
    },
    {
      "cell_type": "markdown",
      "metadata": {
        "id": "7Ez3KfDQLMPa"
      },
      "source": [
        "#### Cholesterol vs Heart Disease\n",
        "\n",
        "We hypothesized that higher cholesterol put the patient at higher risk for heart disease."
      ]
    },
    {
      "cell_type": "code",
      "metadata": {
        "colab": {
          "base_uri": "https://localhost:8080/"
        },
        "id": "UMo9Xs4cLYi3",
        "outputId": "331fee30-499a-48b1-9593-a6c7f857cf80"
      },
      "source": [
        "import numpy as np\n",
        "import scipy.stats\n",
        "\n",
        "#remove rows with no value in cholesterol column\n",
        "chol_df = dfC.ldl.notnull()\n",
        "chol_df = dfC[chol_df.notnull()]\n",
        "chol_df = chol_df.dropna()\n",
        "\n",
        "#create numpy array to correlate variables\n",
        "chol_hd = np.array([[chol_df['ldl']],[chol_df['diagnosis']]])\n",
        "\n",
        "#run linear regression between cholesterol and diagnosis using scipy package\n",
        "slope, intercept, r, p, std_err = scipy.stats.linregress(chol_hd)\n",
        "\n",
        "print('Slope = ',slope, 'Intercept = ',intercept, 'R2 = ', r)"
      ],
      "execution_count": null,
      "outputs": [
        {
          "output_type": "stream",
          "text": [
            "Slope =  0.038758423354101734 Intercept =  0.23392651286954466 R2 =  0.15256013515858108\n"
          ],
          "name": "stdout"
        },
        {
          "output_type": "stream",
          "text": [
            "/usr/local/lib/python3.7/dist-packages/scipy/stats/_stats_mstats_common.py:140: RuntimeWarning: invalid value encountered in sqrt\n",
            "  t = r * np.sqrt(df / ((1.0 - r + TINY)*(1.0 + r + TINY)))\n",
            "/usr/local/lib/python3.7/dist-packages/scipy/stats/_stats_mstats_common.py:142: RuntimeWarning: invalid value encountered in sqrt\n",
            "  sterrest = np.sqrt((1 - r**2) * ssym / ssxm / df)\n"
          ],
          "name": "stderr"
        }
      ]
    },
    {
      "cell_type": "markdown",
      "metadata": {
        "id": "9QlZw3BlO7nq"
      },
      "source": [
        "The linear regression analysis between cholesterol and heart disease shows an R<sup>2</sup> value of 0.1526. This is not a very strong correlation. "
      ]
    },
    {
      "cell_type": "code",
      "metadata": {
        "id": "oULh_j3ydyA5",
        "colab": {
          "base_uri": "https://localhost:8080/",
          "height": 295
        },
        "outputId": "ea02c76f-ca38-400f-b0e0-e7a6e216f75a"
      },
      "source": [
        "import matplotlib.pyplot as plt\n",
        "\n",
        "#scatterplot for cholesterol\n",
        "plt.scatter(chol_df['ldl'], chol_df['diagnosis'])\n",
        "plt.title(\"Cholesterol vs Heart Disease\")\n",
        "plt.xlabel(\"Cholesterol\")\n",
        "plt.ylabel(\"Heart Disease\")\n",
        "plt.show()"
      ],
      "execution_count": null,
      "outputs": [
        {
          "output_type": "display_data",
          "data": {
            "image/png": "[encoded data removed]",
            "text/plain": [
              "<Figure size 432x288 with 1 Axes>"
            ]
          },
          "metadata": {
            "tags": [],
            "needs_background": "light"
          }
        }
      ]
    },
    {
      "cell_type": "markdown",
      "metadata": {
        "id": "egJfpBGWPgsd"
      },
      "source": [
        "#### Age vs Heart Disease\n",
        "\n",
        "The next hypothesis we wanted to test was whether age impacted heart disease positivity."
      ]
    },
    {
      "cell_type": "code",
      "metadata": {
        "colab": {
          "base_uri": "https://localhost:8080/"
        },
        "id": "mgysuJ9uS-ju",
        "outputId": "b470bf61-355a-4dd0-969c-6a71cb58bc98"
      },
      "source": [
        "age_df = dfC.copy()\n",
        "age_replace = list(age_df['diagnosis'].replace(np.nan, 1))\n",
        "age_df['diagnosis'] = age_replace\n",
        "\n",
        "#create numpy array to correlate variables\n",
        "age_hd = np.array([[age_df['age']],[age_df['diagnosis']]])\n",
        "\n",
        "#run linear regression between cholesterol and diagnosis using scipy package\n",
        "slope, intercept, r, p, std_err = scipy.stats.linregress(age_hd)\n",
        "\n",
        "print('Slope = ',slope, 'Intercept = ',intercept, 'R2 = ', r)"
      ],
      "execution_count": null,
      "outputs": [
        {
          "output_type": "stream",
          "text": [
            "Slope =  -0.005282062089148963 Intercept =  0.7325948964140147 R2 =  -0.08749048074903182\n"
          ],
          "name": "stdout"
        },
        {
          "output_type": "stream",
          "text": [
            "/usr/local/lib/python3.7/dist-packages/scipy/stats/_stats_mstats_common.py:140: RuntimeWarning: invalid value encountered in sqrt\n",
            "  t = r * np.sqrt(df / ((1.0 - r + TINY)*(1.0 + r + TINY)))\n",
            "/usr/local/lib/python3.7/dist-packages/scipy/stats/_stats_mstats_common.py:142: RuntimeWarning: invalid value encountered in sqrt\n",
            "  sterrest = np.sqrt((1 - r**2) * ssym / ssxm / df)\n"
          ],
          "name": "stderr"
        }
      ]
    },
    {
      "cell_type": "code",
      "metadata": {
        "colab": {
          "base_uri": "https://localhost:8080/",
          "height": 295
        },
        "id": "6tG2UUKeggki",
        "outputId": "9eee861c-b684-45f8-a52d-1712af39fe5b"
      },
      "source": [
        "#scatterplot for cholesterol\n",
        "plt.scatter(dfC['age'], dfC['diagnosis'])\n",
        "plt.title(\"Age vs Heart Disease\")\n",
        "plt.xlabel(\"Age\")\n",
        "plt.ylabel(\"Heart Disease\")\n",
        "plt.show()"
      ],
      "execution_count": null,
      "outputs": [
        {
          "output_type": "display_data",
          "data": {
            "image/png": "[encoded data removed]",
            "text/plain": [
              "<Figure size 432x288 with 1 Axes>"
            ]
          },
          "metadata": {
            "tags": [],
            "needs_background": "light"
          }
        }
      ]
    },
    {
      "cell_type": "markdown",
      "metadata": {
        "id": "eunviOGJxW1V"
      },
      "source": [
        "While the binary diagnosis still makes the graph hard to read, we can clearly see that the age for heart disease positive patients is typically higher than patients without."
      ]
    },
    {
      "cell_type": "markdown",
      "metadata": {
        "id": "b3bIjk6JQyCW"
      },
      "source": [
        "#### Diabetes vs Heart Disease\n",
        "\n",
        "Based on our individual data exploration, we theorize that patients who have diabetes have a higher risk of heart disease."
      ]
    },
    {
      "cell_type": "code",
      "metadata": {
        "colab": {
          "base_uri": "https://localhost:8080/"
        },
        "id": "DTyFXdXIRBII",
        "outputId": "dbe407aa-7d45-46cd-9e00-0d2b6ef25a80"
      },
      "source": [
        "#remove rows with no value in cholesterol column\n",
        "diabetes_df = dfC.diabetes.notnull()\n",
        "diabetes_df = dfC[diabetes_df.notnull()]\n",
        "diabetes_df = diabetes_df.dropna()\n",
        "\n",
        "diabetes_hd = np.array([[diabetes_df['diabetes']],[diabetes_df['diagnosis']]])\n",
        "\n",
        "scipy.stats.linregress(diabetes_hd)"
      ],
      "execution_count": null,
      "outputs": [
        {
          "output_type": "stream",
          "text": [
            "/usr/local/lib/python3.7/dist-packages/scipy/stats/_stats_mstats_common.py:140: RuntimeWarning: invalid value encountered in sqrt\n",
            "  t = r * np.sqrt(df / ((1.0 - r + TINY)*(1.0 + r + TINY)))\n",
            "/usr/local/lib/python3.7/dist-packages/scipy/stats/_stats_mstats_common.py:142: RuntimeWarning: invalid value encountered in sqrt\n",
            "  sterrest = np.sqrt((1 - r**2) * ssym / ssxm / df)\n"
          ],
          "name": "stderr"
        },
        {
          "output_type": "execute_result",
          "data": {
            "text/plain": [
              "LinregressResult(slope=0.04961629181754767, intercept=0.4181256436663234, rvalue=0.049846743630866004, pvalue=nan, stderr=nan)"
            ]
          },
          "metadata": {
            "tags": []
          },
          "execution_count": 16
        }
      ]
    },
    {
      "cell_type": "markdown",
      "metadata": {
        "id": "zuSzAHW_Rkly"
      },
      "source": [
        "This correlation is also extremely low - the R<sup>2</sup> value is only a 0.0499. "
      ]
    },
    {
      "cell_type": "code",
      "metadata": {
        "colab": {
          "base_uri": "https://localhost:8080/",
          "height": 295
        },
        "id": "ClNWQqFZgpLc",
        "outputId": "72f1a673-f007-405a-9c19-3e4137bd8404"
      },
      "source": [
        "#scatterplot for cholesterol\n",
        "plt.scatter(diabetes_df['diabetes'], diabetes_df['diagnosis'])\n",
        "plt.title(\"Diabetes vs Heart Disease\")\n",
        "plt.xlabel(\"Diabetes\")\n",
        "plt.ylabel(\"Heart Disease\")\n",
        "plt.show()"
      ],
      "execution_count": null,
      "outputs": [
        {
          "output_type": "display_data",
          "data": {
            "image/png": "[encoded data removed]",
            "text/plain": [
              "<Figure size 432x288 with 1 Axes>"
            ]
          },
          "metadata": {
            "tags": [],
            "needs_background": "light"
          }
        }
      ]
    },
    {
      "cell_type": "markdown",
      "metadata": {
        "id": "EMKGokEbgzXV"
      },
      "source": [
        "Because both factors in this correlation are binary, a scatterplot is not the best way to show the correlation between the two factors. In order to get a better look at the information, we'll try a correlation matrix."
      ]
    },
    {
      "cell_type": "code",
      "metadata": {
        "colab": {
          "base_uri": "https://localhost:8080/",
          "height": 275
        },
        "id": "b-l_xkbDheT1",
        "outputId": "c72d22c4-0434-4466-b854-5ba5514eeca2"
      },
      "source": [
        "diabetes_hd_df = diabetes_df[['diabetes','diagnosis']]\n",
        "\n",
        "corr = diabetes_hd_df.corr()\n",
        "plt.matshow(corr)\n",
        "plt.title(\"Diabetes vs Heart Disease\")\n",
        "plt.xlabel(\"Diabetes\")\n",
        "plt.ylabel(\"Heart Disease\")\n",
        "plt.colorbar()\n",
        "plt.show"
      ],
      "execution_count": null,
      "outputs": [
        {
          "output_type": "execute_result",
          "data": {
            "text/plain": [
              "<function matplotlib.pyplot.show>"
            ]
          },
          "metadata": {
            "tags": []
          },
          "execution_count": 18
        },
        {
          "output_type": "display_data",
          "data": {
            "image/png": "[encoded data removed]",
            "text/plain": [
              "<Figure size 288x288 with 2 Axes>"
            ]
          },
          "metadata": {
            "tags": [],
            "needs_background": "light"
          }
        }
      ]
    },
    {
      "cell_type": "markdown",
      "metadata": {
        "id": "U8-VfU6akSxs"
      },
      "source": [
        "The correlation matrix doesn't show any more in-depth explanation, but it makes the information easier to see."
      ]
    },
    {
      "cell_type": "markdown",
      "metadata": {
        "id": "-5DByBFrVHan"
      },
      "source": [
        "#### Risk Factor vs Cardiovascular Disease\n",
        "\n",
        "This hypothesis was made using the individual dataset that our team is struggling to merge into the other 3 datasets. The factors we'd like to compare are the likelihood of cardiovascular disease compared to the risk factors: hypertension, physical inactivity, and smoking."
      ]
    },
    {
      "cell_type": "code",
      "metadata": {
        "colab": {
          "base_uri": "https://localhost:8080/"
        },
        "id": "iswAaHUyViw2",
        "outputId": "a37af9bc-29a6-482c-9b0b-df11811e030a"
      },
      "source": [
        "#Split the risk factors categories into 3 different dataframes in order to compare the R^2 values\n",
        "dfMRisk['diagnosis'] = 1\n",
        "\n",
        "#create hypertension df\n",
        "has_hypertension = dfMRisk['Topic']=='Hypertension'\n",
        "hypertension_df = dfMRisk[has_hypertension]\n",
        "\n",
        "#drop blank Data Value columns\n",
        "hypertension_data_df = hypertension_df.Data_Value.notnull()\n",
        "hypertension_data_df = hypertension_df[hypertension_df.notnull()]\n",
        "hypertension_data_df = hypertension_df.dropna()\n",
        "\n",
        "#create physical inactivity df\n",
        "is_inactive = dfMRisk['Topic']=='Physical Inactivity'\n",
        "inactivity_df = dfMRisk[is_inactive]\n",
        "\n",
        "#drop blank Data Value columns\n",
        "inactivity_data_df = inactivity_df.Data_Value.notnull()\n",
        "inactivity_data_df = inactivity_df[hypertension_df.notnull()]\n",
        "inactivity_data_df = inactivity_df.dropna()\n",
        "\n",
        "#create smoking df\n",
        "smokes = dfMRisk['Topic']=='Smoking'\n",
        "smoking_df = dfMRisk[smokes]\n",
        "\n",
        "#drop blank Data Value columns\n",
        "smoking_data_df = smoking_df.Data_Value.notnull()\n",
        "smoking_data_df = smoking_df[hypertension_df.notnull()]\n",
        "smoking_data_df = smoking_df.dropna()\n",
        "\n",
        "#determine linear regression for hypertension\n",
        "hypertension_hd = np.array([[hypertension_data_df['Data_Value']],[hypertension_data_df['diagnosis']]])\n",
        "\n",
        "slope, intercept, r, p, std_err = scipy.stats.linregress(hypertension_hd)\n",
        "\n",
        "print('Hypertension: Slope = ',slope, 'Intercept = ',intercept, 'R2 = ', r)\n",
        "\n",
        "#determine linear regression for physical inactivity\n",
        "inactivity_hd = np.array([[inactivity_data_df['Data_Value']],[inactivity_data_df['diagnosis']]])\n",
        "\n",
        "slope, intercept, r, p, std_err = scipy.stats.linregress(inactivity_hd)\n",
        "\n",
        "print('Physical Inactivity: Slope = ',slope, 'Intercept = ',intercept, 'R2 = ', r)\n",
        "\n",
        "#determine linear regression for smoking\n",
        "smoking_hd = np.array([[smoking_data_df['Data_Value']],[smoking_data_df['diagnosis']]])\n",
        "\n",
        "slope, intercept, r, p, std_err = scipy.stats.linregress(smoking_hd)\n",
        "\n",
        "print('Smoking: Slope = ',slope, 'Intercept = ',intercept, 'R2 = ', r)\n"
      ],
      "execution_count": null,
      "outputs": [
        {
          "output_type": "stream",
          "text": [
            "Hypertension: Slope =  0.0 Intercept =  1.0 R2 =  0.0\n",
            "Physical Inactivity: Slope =  0.0 Intercept =  1.0 R2 =  0.0\n",
            "Smoking: Slope =  0.0 Intercept =  1.0 R2 =  0.0\n"
          ],
          "name": "stdout"
        },
        {
          "output_type": "stream",
          "text": [
            "/usr/local/lib/python3.7/dist-packages/scipy/stats/_stats_mstats_common.py:140: RuntimeWarning: invalid value encountered in sqrt\n",
            "  t = r * np.sqrt(df / ((1.0 - r + TINY)*(1.0 + r + TINY)))\n"
          ],
          "name": "stderr"
        }
      ]
    },
    {
      "cell_type": "markdown",
      "metadata": {
        "id": "rGS6nDhxsZWd"
      },
      "source": [
        "Unfortunately, this does not show us much information about whether this factor contributes to heart disease, since all of these cases were positive. "
      ]
    },
    {
      "cell_type": "code",
      "metadata": {
        "colab": {
          "base_uri": "https://localhost:8080/",
          "height": 851
        },
        "id": "fc7Hb_xp1Rxp",
        "outputId": "c3ac44c1-2e0a-46ba-9deb-fc0331789097"
      },
      "source": [
        "#hypertension graph\n",
        "plt.scatter(hypertension_data_df['Data_Value'],hypertension_data_df['diagnosis'])\n",
        "plt.title(\"Hypertension vs Heart Disease\")\n",
        "plt.xlabel(\"Hypertension\")\n",
        "plt.ylabel(\"Heart Disease\")\n",
        "plt.show()\n",
        "\n",
        "#hypertension graph\n",
        "plt.scatter(inactivity_data_df['Data_Value'],inactivity_data_df['diagnosis'])\n",
        "plt.title(\"Inactivity vs Heart Disease\")\n",
        "plt.xlabel(\"Physical Inactivity\")\n",
        "plt.ylabel(\"Heart Disease\")\n",
        "plt.show()\n",
        "\n",
        "#smoking graph\n",
        "plt.scatter(smoking_data_df['Data_Value'],smoking_data_df['diagnosis'])\n",
        "plt.title(\"Smoking vs Heart Disease\")\n",
        "plt.xlabel(\"Tobacco Use\")\n",
        "plt.ylabel(\"Heart Disease\")\n",
        "plt.show()\n"
      ],
      "execution_count": null,
      "outputs": [
        {
          "output_type": "display_data",
          "data": {
            "image/png": "[encoded data removed]",
            "text/plain": [
              "<Figure size 432x288 with 1 Axes>"
            ]
          },
          "metadata": {
            "tags": [],
            "needs_background": "light"
          }
        },
        {
          "output_type": "display_data",
          "data": {
            "image/png": "[encoded data removed]",
            "text/plain": [
              "<Figure size 432x288 with 1 Axes>"
            ]
          },
          "metadata": {
            "tags": [],
            "needs_background": "light"
          }
        },
        {
          "output_type": "display_data",
          "data": {
            "image/png": "[encoded data removed]",
            "text/plain": [
              "<Figure size 432x288 with 1 Axes>"
            ]
          },
          "metadata": {
            "tags": [],
            "needs_background": "light"
          }
        }
      ]
    },
    {
      "cell_type": "markdown",
      "metadata": {
        "id": "UY0jT_JV8Ymq"
      },
      "source": [
        "#Applying PCA\n",
        "In order to get a better look at our data, we are applying PCA - principal component analysis - to narrow down which of the factors have the most impact on heart disease.\n",
        "\n",
        "In order for PCA to work, we have to convert all of the string values in the dataset into numerical values. "
      ]
    },
    {
      "cell_type": "code",
      "metadata": {
        "colab": {
          "base_uri": "https://localhost:8080/"
        },
        "id": "y113IMik8iZ8",
        "outputId": "e31bc580-bb86-4a38-d39a-79b46dbb7e45"
      },
      "source": [
        "toNumbers = dropped_df.replace({\"Absent\":0,'Present':1})\n",
        "\n",
        "from sklearn.decomposition import PCA\n",
        "X = toNumbers.to_numpy()\n",
        "print(X)\n",
        "pca = PCA(n_components=2)\n",
        "pca.fit(X)\n",
        "print(pca.components_)\n",
        "print(pca.explained_variance_)"
      ],
      "execution_count": null,
      "outputs": [
        {
          "output_type": "stream",
          "text": [
            "[[63.    1.    1.   ... 55.   28.87  2.06]\n",
            " [63.    1.    1.   ... 60.   28.07  8.23]\n",
            " [63.    1.    1.   ... 45.   20.86  0.  ]\n",
            " ...\n",
            " [50.    1.    0.   ... 51.   22.69  2.78]\n",
            " [50.    1.    0.   ... 42.   30.31 72.  ]\n",
            " [50.    1.    0.   ... 31.   26.67 16.3 ]]\n",
            "[[ 9.30392290e-03 -9.06214680e-04 -1.12627157e-03 -4.57023663e-04\n",
            "  -1.98525966e-04 -9.92979621e-04  2.28897181e-04  3.74645907e-02\n",
            "  -2.08602713e-04 -3.22495933e-02  9.98358749e-01 -1.12620314e-03\n",
            "  -2.86595239e-03  2.75182756e-03 -1.59941604e-02  3.47383574e-04\n",
            "  -2.17532676e-02]\n",
            " [ 2.50426071e-02 -1.61131042e-03  1.82650393e-03  2.50970039e-03\n",
            "   7.69976537e-04 -3.26256671e-04  3.81997352e-04 -4.89859505e-02\n",
            "   6.34730238e-04  4.82476981e-01  3.64286918e-02 -2.42006776e-02\n",
            "   3.02598934e-02  3.58416112e-02  1.82941812e-02  1.59954590e-02\n",
            "   8.71477017e-01]]\n",
            "[1864.64277006  546.98024907]\n"
          ],
          "name": "stdout"
        }
      ]
    },
    {
      "cell_type": "code",
      "metadata": {
        "colab": {
          "base_uri": "https://localhost:8080/",
          "height": 364
        },
        "id": "F4_3C5ZoMOA9",
        "outputId": "6dad8f23-0191-483c-c69e-dbf797d15861"
      },
      "source": [
        "pca= PCA().fit(X)\n",
        "plt.plot(np.cumsum(pca.explained_variance_ratio_))\n",
        "plt.xlabel('number of components')\n",
        "plt.ylabel('cumulative explained variance');\n",
        "print(pca.explained_variance_)"
      ],
      "execution_count": null,
      "outputs": [
        {
          "output_type": "stream",
          "text": [
            "[1.86464277e+03 5.46980249e+02 3.97913191e+02 2.39834386e+02\n",
            " 1.08009302e+02 4.45547975e+01 3.20933583e+01 2.04913882e+01\n",
            " 4.25575808e+00 2.97464818e+00 3.40771270e-01 2.61630878e-01\n",
            " 2.29441151e-01 1.99597453e-01 1.79753758e-01 1.57284978e-01\n",
            " 9.54159960e-02]\n"
          ],
          "name": "stdout"
        },
        {
          "output_type": "display_data",
          "data": {
            "image/png": "[encoded data removed]",
            "text/plain": [
              "<Figure size 432x288 with 1 Axes>"
            ]
          },
          "metadata": {
            "tags": [],
            "needs_background": "light"
          }
        }
      ]
    },
    {
      "cell_type": "code",
      "metadata": {
        "colab": {
          "base_uri": "https://localhost:8080/",
          "height": 993
        },
        "id": "KbT4AX48Mk9-",
        "outputId": "6498c111-1dde-45ae-c734-5c0a93f9998b"
      },
      "source": [
        "pca = PCA().fit(X[1:9])\n",
        "plt.plot(np.cumsum(pca.explained_variance_ratio_))\n",
        "plt.xlabel('number of components')\n",
        "plt.ylabel('cumulative explained variance');\n",
        "print(pca.components_)\n",
        "print(pca.explained_variance_)"
      ],
      "execution_count": null,
      "outputs": [
        {
          "output_type": "stream",
          "text": [
            "[[ 1.12220492e-17  1.37996203e-16 -2.06397617e-17 -2.76687140e-02\n",
            "   2.29517353e-03 -2.29517353e-03 -1.34395348e-33 -0.00000000e+00\n",
            "   6.12924124e-06  9.15139907e-01 -0.00000000e+00 -2.45833154e-02\n",
            "  -1.49135977e-01 -2.67216567e-01  1.59629743e-01 -1.88744134e-01\n",
            "  -7.99142112e-02]\n",
            " [ 1.99302874e-16  3.98185333e-17 -2.63671986e-17 -2.69363811e-02\n",
            "  -8.56671661e-03  8.56671661e-03  5.01069784e-33  0.00000000e+00\n",
            "  -3.24113339e-05 -2.04673453e-01  0.00000000e+00  7.58514908e-02\n",
            "  -3.02854462e-01 -2.53073872e-01  8.37182099e-01  2.12912793e-01\n",
            "   2.22508533e-01]\n",
            " [ 3.02887615e-16  9.85340898e-17 -1.37698595e-16 -3.92027145e-02\n",
            "  -9.55038639e-02  9.55038639e-02  5.16530656e-32 -0.00000000e+00\n",
            "  -7.52748932e-03 -7.18193661e-02 -0.00000000e+00 -2.97990455e-01\n",
            "  -3.59957264e-01  1.01493550e-01  6.54304105e-02  2.40327877e-01\n",
            "  -8.27223897e-01]\n",
            " [ 4.54745737e-17  8.98125081e-16  2.19849884e-16  4.54662129e-03\n",
            "  -5.46878146e-01  5.46878146e-01 -4.53916551e-32 -0.00000000e+00\n",
            "  -6.24189981e-01  1.22921999e-02 -0.00000000e+00  3.23498181e-02\n",
            "   4.25473617e-02 -9.54905602e-03 -1.48820934e-02 -2.92486180e-02\n",
            "   8.96590894e-02]\n",
            " [ 2.38653242e-15  1.32974186e-16  1.67907525e-16 -3.25401404e-03\n",
            "   4.37863733e-01 -4.37863733e-01 -7.15763247e-31  0.00000000e+00\n",
            "  -7.81236330e-01 -9.11351072e-03  0.00000000e+00 -2.29788616e-02\n",
            "  -3.05146595e-02  6.65995411e-03  1.12265274e-02  2.10430193e-02\n",
            "  -6.36748266e-02]\n",
            " [-6.60275476e-01 -1.94628559e-01  4.19391349e-02 -8.17171194e-02\n",
            "  -3.27900089e-03 -3.27900089e-03  4.88343381e-17 -0.00000000e+00\n",
            "  -1.52629690e-15 -1.84040454e-01 -0.00000000e+00  1.47290183e-01\n",
            "  -1.17747150e-01 -6.10267537e-01 -2.35571507e-01 -9.77590476e-02\n",
            "  -1.03879867e-01]\n",
            " [ 4.55325745e-01 -8.60996398e-01 -9.89162835e-03 -6.62583597e-02\n",
            "   4.42192711e-03  4.42192711e-03  2.04342582e-17 -0.00000000e+00\n",
            "   2.27570399e-16 -6.75250761e-02 -0.00000000e+00  1.99069558e-02\n",
            "   3.46213633e-02 -1.58912896e-01 -1.20077716e-02 -1.05563484e-01\n",
            "  -6.43493664e-02]\n",
            " [ 2.74836488e-01  2.71278140e-01 -7.48084601e-01  1.11451413e-01\n",
            "   1.43959886e-02  1.43959886e-02  5.25526450e-17 -0.00000000e+00\n",
            "   1.87728759e-16 -1.28821273e-01 -0.00000000e+00  9.07659794e-02\n",
            "   1.99548733e-01 -3.73554939e-01  2.27689746e-02 -1.74139259e-01\n",
            "  -2.08248214e-01]]\n",
            "[1.60769820e+02 1.13562446e+02 5.72314842e+00 6.61203088e-01\n",
            " 4.55105494e-02 2.23425172e-30 6.69831693e-31 1.98314991e-31]\n"
          ],
          "name": "stdout"
        },
        {
          "output_type": "display_data",
          "data": {
            "image/png": "[encoded data removed]",
            "text/plain": [
              "<Figure size 432x288 with 1 Axes>"
            ]
          },
          "metadata": {
            "tags": [],
            "needs_background": "light"
          }
        }
      ]
    },
    {
      "cell_type": "markdown",
      "metadata": {
        "id": "v7S-uVG5u3hQ"
      },
      "source": [
        "Export dataset into csv"
      ]
    },
    {
      "cell_type": "code",
      "metadata": {
        "colab": {
          "base_uri": "https://localhost:8080/",
          "height": 17
        },
        "id": "HWFB_XWZu3Bs",
        "outputId": "19fbf1b8-9f19-4d69-9a13-ba6542c8699f"
      },
      "source": [
        "pca_df = dropped_df[['age','sex','diagnosis']]\n",
        "type(pca_df)\n",
        "\n",
        "from google.colab import files\n",
        "\n",
        "pca_df.to_csv('heart_disease_PCA.csv') \n",
        "files.download('heart_disease_PCA.csv')"
      ],
      "execution_count": null,
      "outputs": [
        {
          "output_type": "display_data",
          "data": {
            "application/javascript": [
              "\n",
              "    async function download(id, filename, size) {\n",
              "      if (!google.colab.kernel.accessAllowed) {\n",
              "        return;\n",
              "      }\n",
              "      const div = document.createElement('div');\n",
              "      const label = document.createElement('label');\n",
              "      label.textContent = `Downloading \"${filename}\": `;\n",
              "      div.appendChild(label);\n",
              "      const progress = document.createElement('progress');\n",
              "      progress.max = size;\n",
              "      div.appendChild(progress);\n",
              "      document.body.appendChild(div);\n",
              "\n",
              "      const buffers = [];\n",
              "      let downloaded = 0;\n",
              "\n",
              "      const channel = await google.colab.kernel.comms.open(id);\n",
              "      // Send a message to notify the kernel that we're ready.\n",
              "      channel.send({})\n",
              "\n",
              "      for await (const message of channel.messages) {\n",
              "        // Send a message to notify the kernel that we're ready.\n",
              "        channel.send({})\n",
              "        if (message.buffers) {\n",
              "          for (const buffer of message.buffers) {\n",
              "            buffers.push(buffer);\n",
              "            downloaded += buffer.byteLength;\n",
              "            progress.value = downloaded;\n",
              "          }\n",
              "        }\n",
              "      }\n",
              "      const blob = new Blob(buffers, {type: 'application/binary'});\n",
              "      const a = document.createElement('a');\n",
              "      a.href = window.URL.createObjectURL(blob);\n",
              "      a.download = filename;\n",
              "      div.appendChild(a);\n",
              "      a.click();\n",
              "      div.remove();\n",
              "    }\n",
              "  "
            ],
            "text/plain": [
              "<IPython.core.display.Javascript object>"
            ]
          },
          "metadata": {
            "tags": []
          }
        },
        {
          "output_type": "display_data",
          "data": {
            "application/javascript": [
              "download(\"download_1ac25d16-22fd-48b2-8ecf-9bcbb7c48a91\", \"heart_disease_PCA.csv\", 86261)"
            ],
            "text/plain": [
              "<IPython.core.display.Javascript object>"
            ]
          },
          "metadata": {
            "tags": []
          }
        }
      ]
    },
    {
      "cell_type": "markdown",
      "metadata": {
        "id": "FQG31k4hlE2f"
      },
      "source": [
        "# Statistics\n",
        "\n",
        "After applying PCA to narrow down the number of factors that really influence the dataset, we used the describe method to show a brief overview of all of the factors, and then specifically dig into the factors identified by PCA."
      ]
    },
    {
      "cell_type": "code",
      "metadata": {
        "colab": {
          "base_uri": "https://localhost:8080/",
          "height": 334
        },
        "id": "t2ibMimFlEX5",
        "outputId": "8cdcb35a-1a17-4c8f-a6f3-ab1d4c42f708"
      },
      "source": [
        "dropped_df.describe()"
      ],
      "execution_count": null,
      "outputs": [
        {
          "output_type": "execute_result",
          "data": {
            "text/html": [
              "<div>\n",
              "<style scoped>\n",
              "    .dataframe tbody tr th:only-of-type {\n",
              "        vertical-align: middle;\n",
              "    }\n",
              "\n",
              "    .dataframe tbody tr th {\n",
              "        vertical-align: top;\n",
              "    }\n",
              "\n",
              "    .dataframe thead th {\n",
              "        text-align: right;\n",
              "    }\n",
              "</style>\n",
              "<table border=\"1\" class=\"dataframe\">\n",
              "  <thead>\n",
              "    <tr style=\"text-align: right;\">\n",
              "      <th></th>\n",
              "      <th>age</th>\n",
              "      <th>sex</th>\n",
              "      <th>diagnosis</th>\n",
              "      <th>diabetes</th>\n",
              "      <th>smoking</th>\n",
              "      <th>death event</th>\n",
              "      <th>rbp</th>\n",
              "      <th>hbp</th>\n",
              "      <th>sbp</th>\n",
              "      <th>serum cholesterol</th>\n",
              "      <th>ldl</th>\n",
              "      <th>tobacco</th>\n",
              "      <th>adiposity</th>\n",
              "      <th>typea</th>\n",
              "      <th>obesity</th>\n",
              "      <th>alcohol</th>\n",
              "    </tr>\n",
              "  </thead>\n",
              "  <tbody>\n",
              "    <tr>\n",
              "      <th>count</th>\n",
              "      <td>5455.000000</td>\n",
              "      <td>5455.000000</td>\n",
              "      <td>5455.000000</td>\n",
              "      <td>5455.000000</td>\n",
              "      <td>5455.000000</td>\n",
              "      <td>5455.000000</td>\n",
              "      <td>5455.000000</td>\n",
              "      <td>5455.000000</td>\n",
              "      <td>5455.000000</td>\n",
              "      <td>5455.000000</td>\n",
              "      <td>5455.000000</td>\n",
              "      <td>5455.000000</td>\n",
              "      <td>5455.000000</td>\n",
              "      <td>5455.000000</td>\n",
              "      <td>5455.000000</td>\n",
              "      <td>5455.000000</td>\n",
              "    </tr>\n",
              "    <tr>\n",
              "      <th>mean</th>\n",
              "      <td>55.170486</td>\n",
              "      <td>0.786251</td>\n",
              "      <td>0.441247</td>\n",
              "      <td>0.465995</td>\n",
              "      <td>0.380935</td>\n",
              "      <td>0.257379</td>\n",
              "      <td>131.986434</td>\n",
              "      <td>0.286893</td>\n",
              "      <td>143.995967</td>\n",
              "      <td>245.094775</td>\n",
              "      <td>5.349032</td>\n",
              "      <td>4.697676</td>\n",
              "      <td>29.088143</td>\n",
              "      <td>51.758753</td>\n",
              "      <td>26.752614</td>\n",
              "      <td>17.946821</td>\n",
              "    </tr>\n",
              "    <tr>\n",
              "      <th>std</th>\n",
              "      <td>6.027158</td>\n",
              "      <td>0.409989</td>\n",
              "      <td>0.496582</td>\n",
              "      <td>0.498888</td>\n",
              "      <td>0.485661</td>\n",
              "      <td>0.437230</td>\n",
              "      <td>15.427290</td>\n",
              "      <td>0.452353</td>\n",
              "      <td>20.791216</td>\n",
              "      <td>43.124614</td>\n",
              "      <td>1.954634</td>\n",
              "      <td>4.595214</td>\n",
              "      <td>5.988010</td>\n",
              "      <td>10.525525</td>\n",
              "      <td>3.643600</td>\n",
              "      <td>22.593775</td>\n",
              "    </tr>\n",
              "    <tr>\n",
              "      <th>min</th>\n",
              "      <td>40.000000</td>\n",
              "      <td>0.000000</td>\n",
              "      <td>0.000000</td>\n",
              "      <td>0.000000</td>\n",
              "      <td>0.000000</td>\n",
              "      <td>0.000000</td>\n",
              "      <td>94.000000</td>\n",
              "      <td>0.000000</td>\n",
              "      <td>108.000000</td>\n",
              "      <td>126.000000</td>\n",
              "      <td>0.980000</td>\n",
              "      <td>0.000000</td>\n",
              "      <td>12.330000</td>\n",
              "      <td>13.000000</td>\n",
              "      <td>18.360000</td>\n",
              "      <td>0.000000</td>\n",
              "    </tr>\n",
              "    <tr>\n",
              "      <th>25%</th>\n",
              "      <td>51.000000</td>\n",
              "      <td>1.000000</td>\n",
              "      <td>0.000000</td>\n",
              "      <td>0.000000</td>\n",
              "      <td>0.000000</td>\n",
              "      <td>0.000000</td>\n",
              "      <td>120.000000</td>\n",
              "      <td>0.000000</td>\n",
              "      <td>130.000000</td>\n",
              "      <td>211.000000</td>\n",
              "      <td>4.040000</td>\n",
              "      <td>1.000000</td>\n",
              "      <td>24.380000</td>\n",
              "      <td>46.000000</td>\n",
              "      <td>24.380000</td>\n",
              "      <td>0.000000</td>\n",
              "    </tr>\n",
              "    <tr>\n",
              "      <th>50%</th>\n",
              "      <td>58.000000</td>\n",
              "      <td>1.000000</td>\n",
              "      <td>0.000000</td>\n",
              "      <td>0.000000</td>\n",
              "      <td>0.000000</td>\n",
              "      <td>0.000000</td>\n",
              "      <td>130.000000</td>\n",
              "      <td>0.000000</td>\n",
              "      <td>138.000000</td>\n",
              "      <td>240.000000</td>\n",
              "      <td>5.040000</td>\n",
              "      <td>4.000000</td>\n",
              "      <td>29.300000</td>\n",
              "      <td>53.000000</td>\n",
              "      <td>26.880000</td>\n",
              "      <td>10.490000</td>\n",
              "    </tr>\n",
              "    <tr>\n",
              "      <th>75%</th>\n",
              "      <td>60.000000</td>\n",
              "      <td>1.000000</td>\n",
              "      <td>1.000000</td>\n",
              "      <td>1.000000</td>\n",
              "      <td>1.000000</td>\n",
              "      <td>1.000000</td>\n",
              "      <td>140.000000</td>\n",
              "      <td>1.000000</td>\n",
              "      <td>158.000000</td>\n",
              "      <td>271.000000</td>\n",
              "      <td>6.580000</td>\n",
              "      <td>6.600000</td>\n",
              "      <td>33.990000</td>\n",
              "      <td>58.000000</td>\n",
              "      <td>28.690000</td>\n",
              "      <td>28.800000</td>\n",
              "    </tr>\n",
              "    <tr>\n",
              "      <th>max</th>\n",
              "      <td>64.000000</td>\n",
              "      <td>1.000000</td>\n",
              "      <td>1.000000</td>\n",
              "      <td>1.000000</td>\n",
              "      <td>1.000000</td>\n",
              "      <td>1.000000</td>\n",
              "      <td>192.000000</td>\n",
              "      <td>1.000000</td>\n",
              "      <td>218.000000</td>\n",
              "      <td>407.000000</td>\n",
              "      <td>15.330000</td>\n",
              "      <td>31.200000</td>\n",
              "      <td>42.490000</td>\n",
              "      <td>78.000000</td>\n",
              "      <td>45.720000</td>\n",
              "      <td>147.190000</td>\n",
              "    </tr>\n",
              "  </tbody>\n",
              "</table>\n",
              "</div>"
            ],
            "text/plain": [
              "               age          sex  ...      obesity      alcohol\n",
              "count  5455.000000  5455.000000  ...  5455.000000  5455.000000\n",
              "mean     55.170486     0.786251  ...    26.752614    17.946821\n",
              "std       6.027158     0.409989  ...     3.643600    22.593775\n",
              "min      40.000000     0.000000  ...    18.360000     0.000000\n",
              "25%      51.000000     1.000000  ...    24.380000     0.000000\n",
              "50%      58.000000     1.000000  ...    26.880000    10.490000\n",
              "75%      60.000000     1.000000  ...    28.690000    28.800000\n",
              "max      64.000000     1.000000  ...    45.720000   147.190000\n",
              "\n",
              "[8 rows x 16 columns]"
            ]
          },
          "metadata": {
            "tags": []
          },
          "execution_count": 25
        }
      ]
    },
    {
      "cell_type": "code",
      "metadata": {
        "colab": {
          "base_uri": "https://localhost:8080/"
        },
        "id": "oy8o470yl_xu",
        "outputId": "a64a2972-4336-45e2-be18-44bfb6c3cf19"
      },
      "source": [
        "dropped_pos = dropped_df.groupby('diagnosis').get_group(1)\n",
        "dropped_neg = dropped_df.groupby('diagnosis').get_group(0)\n",
        "\n",
        "print('Number of positive patients:', len(dropped_pos['age']))\n",
        "print('Number of negative patients:', len(dropped_neg['age']),'\\n')\n",
        "print('The average age of heart disease positive patients is:', round(dropped_pos['age'].mean(),2))\n",
        "print('The average age of heart disease negative patients is:', round(dropped_neg['age'].mean(),2))"
      ],
      "execution_count": null,
      "outputs": [
        {
          "output_type": "stream",
          "text": [
            "Number of positive patients: 2407\n",
            "Number of negative patients: 3048 \n",
            "\n",
            "The average age of heart disease positive patients is: 53.59\n",
            "The average age of heart disease negative patients is: 56.41\n"
          ],
          "name": "stdout"
        }
      ]
    },
    {
      "cell_type": "markdown",
      "metadata": {
        "id": "md3DbqMWX7Ag"
      },
      "source": [
        "# K-Means Clustering\n",
        "\n",
        "Now that we know what the important factors are, we can look at them in more depth. To look at the results of\n",
        " clustering, we applied K-Means clustering to the age column. Because our diagnosis column only contains 2 categories of values, we chose to set up 2 cluster centers, as shown in the below code (n_clusters=2). "
      ]
    },
    {
      "cell_type": "code",
      "metadata": {
        "colab": {
          "base_uri": "https://localhost:8080/"
        },
        "id": "zYcH9fh5YLGa",
        "outputId": "56f51ca4-68b2-4904-c446-e0655fa4fb4e"
      },
      "source": [
        "from sklearn.cluster import KMeans\n",
        "import numpy as np\n",
        "\n",
        "X = dropped_df[['diagnosis', 'age']].to_numpy()\n",
        "kmeans = KMeans(n_clusters=2, random_state=0).fit(X)\n",
        "kmeans.labels_\n",
        "centers = kmeans.cluster_centers_\n",
        "centers"
      ],
      "execution_count": null,
      "outputs": [
        {
          "output_type": "execute_result",
          "data": {
            "text/plain": [
              "array([[ 0.35093697, 59.04826803],\n",
              "       [ 0.6057941 , 48.10501811]])"
            ]
          },
          "metadata": {
            "tags": []
          },
          "execution_count": 27
        }
      ]
    },
    {
      "cell_type": "markdown",
      "metadata": {
        "id": "ze08pEvSi8d1"
      },
      "source": [
        "Since the series of numbers output by the cluster_centers_ method are hard to understand, we can graph them so that we can gather some information about the dataset."
      ]
    },
    {
      "cell_type": "code",
      "metadata": {
        "colab": {
          "base_uri": "https://localhost:8080/",
          "height": 295
        },
        "id": "rTvRKYeAe5lo",
        "outputId": "a2a724a6-74fe-4266-d826-c42d81cb0ddc"
      },
      "source": [
        "import matplotlib.pyplot as plt\n",
        "\n",
        "x = centers[0]\n",
        "y = centers[1] \n",
        "\n",
        "plt.scatter(dropped_df['diagnosis'],dropped_df['age'])\n",
        "plt.scatter(x[0], x[1], color = \"blue\", s = 100)\n",
        "plt.scatter(y[0], y[1], color = \"gray\", s = 100)\n",
        "\n",
        "plt.xlabel('Diagnosis')\n",
        "plt.ylabel('Age')\n",
        "plt.title('Diagnosis vs Age Clusters')\n",
        "plt.show()"
      ],
      "execution_count": null,
      "outputs": [
        {
          "output_type": "display_data",
          "data": {
            "image/png": "[encoded data removed]",
            "text/plain": [
              "<Figure size 432x288 with 1 Axes>"
            ]
          },
          "metadata": {
            "tags": [],
            "needs_background": "light"
          }
        }
      ]
    },
    {
      "cell_type": "markdown",
      "metadata": {
        "id": "xpHiEC_rpY2O"
      },
      "source": [
        "#Conclusion"
      ]
    },
    {
      "cell_type": "markdown",
      "metadata": {
        "id": "0Ypev3W9jYk9"
      },
      "source": [
        "The original hypotheses that we created were mostly determined invalid by the PCA algorithm. It determined that the most important factors in our dataset were age and sex. This rules out correlations to cholesterol and diabetes. \n",
        "\n",
        "The clustering algorithm shows the same information as the basic statistics that we ran on the attributes identified in PCA. Oddly enough, the heart disease negative patients were older than the heart disease positive patients. In our hypothesis creation, we predicted that the heart disease positive patients would be older than the negative. This algorithm shows that our hypothesis has been disproved.\n"
      ]
    }
  ]
}